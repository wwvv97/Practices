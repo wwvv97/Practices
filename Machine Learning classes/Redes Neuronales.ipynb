{
 "cells": [
  {
   "cell_type": "markdown",
   "metadata": {
    "slideshow": {
     "slide_type": "slide"
    }
   },
   "source": [
    "# Redes Neuronales"
   ]
  },
  {
   "cell_type": "markdown",
   "metadata": {
    "slideshow": {
     "slide_type": "slide"
    }
   },
   "source": [
    "##  Perceptron de Rosenblatt (1958) "
   ]
  },
  {
   "cell_type": "markdown",
   "metadata": {
    "slideshow": {
     "slide_type": "slide"
    }
   },
   "source": [
    "\n",
    "It is only after much hesitation that the writer has reconciled himself to the addition of the term \"neurodynamics\" to the list of such recent linguistic artifacts as \"cybernetics, \"bionics\",..., \"intelectronics\", and \"robotics\". It is hoped that by selecting a term which more clearly delimits our realm of interest and indicates its relationship to traditional academic disciplines, the underlying motivation of the perceptron program may be more successfully communicated. The term \"perceptron\", originally intended as a generic name for a variety of ***theoretical nerve nets***, has an unfortunate tendency to suggest a specific piece of hardware...\n",
    "\n",
    "For this writer, the perceptron program is not primarily concerned with the invention of devices for **\"artificial intelligence\"**, but rather with investigating the physical structures and neurodynamic principles which underlie \"natural intelligence\". A perceptron is first and foremost a brain model, not an invention for pattern recognition. As a brain model, its utility is in enabling us to determine the physical conditions for the emergence of various psychological properties.\n",
    "\n",
    "Prefacio de Frank Rossenblatt de su libro $\\text{Principles of Neurodynamics: Perceptrons and the Theory of Brain Mechanisms}$, Spartan Books, 1962"
   ]
  },
  {
   "cell_type": "markdown",
   "metadata": {
    "slideshow": {
     "slide_type": "slide"
    }
   },
   "source": [
    "El objetivo inicial de Rosenblatt era hacer un modelo del cerebro humano para entenderlo mejor y no un mecanismo para el reconocimiento de patrones. \n",
    "\n",
    "Fueron otros los que usaron los principios propuestos por Rosenblatt y los aplicaron para resolver el problema de reconocimiento de patrones. "
   ]
  },
  {
   "cell_type": "markdown",
   "metadata": {
    "slideshow": {
     "slide_type": "slide"
    }
   },
   "source": [
    "El perceptron de Rosenblat es un algorítmo que resulve el problema de clasificación binaria. Es un tipo de clasificador lineal, es decir, solo puede clasificar problemas con datos que son linealmente separables."
   ]
  },
  {
   "cell_type": "markdown",
   "metadata": {
    "slideshow": {
     "slide_type": "slide"
    }
   },
   "source": [
    "<img src='https://miro.medium.com/max/870/1*gKFs7YU44vJFiS2rF3-bpg.png'>"
   ]
  },
  {
   "cell_type": "markdown",
   "metadata": {
    "slideshow": {
     "slide_type": "slide"
    }
   },
   "source": [
    "El perceptrón por su forma solamente podría resolver datasets que son linealmente separables."
   ]
  },
  {
   "cell_type": "markdown",
   "metadata": {
    "slideshow": {
     "slide_type": "slide"
    }
   },
   "source": [
    "### Algorítmo de Aprendizaje del perceptron. Ajustando W"
   ]
  },
  {
   "cell_type": "markdown",
   "metadata": {
    "slideshow": {
     "slide_type": "slide"
    }
   },
   "source": [
    "<img src='https://miro.medium.com/max/516/1*PbJBdf-WxR0Dd0xHvEoh4A.png'> "
   ]
  },
  {
   "cell_type": "code",
   "execution_count": 1,
   "metadata": {
    "slideshow": {
     "slide_type": "slide"
    }
   },
   "outputs": [],
   "source": [
    "import pandas as pd\n",
    "import numpy as np"
   ]
  },
  {
   "cell_type": "code",
   "execution_count": 24,
   "metadata": {
    "slideshow": {
     "slide_type": "slide"
    }
   },
   "outputs": [
    {
     "data": {
      "text/html": [
       "<div>\n",
       "<style scoped>\n",
       "    .dataframe tbody tr th:only-of-type {\n",
       "        vertical-align: middle;\n",
       "    }\n",
       "\n",
       "    .dataframe tbody tr th {\n",
       "        vertical-align: top;\n",
       "    }\n",
       "\n",
       "    .dataframe thead th {\n",
       "        text-align: right;\n",
       "    }\n",
       "</style>\n",
       "<table border=\"1\" class=\"dataframe\">\n",
       "  <thead>\n",
       "    <tr style=\"text-align: right;\">\n",
       "      <th></th>\n",
       "      <th>data</th>\n",
       "      <th>target</th>\n",
       "    </tr>\n",
       "  </thead>\n",
       "  <tbody>\n",
       "    <tr>\n",
       "      <th>0</th>\n",
       "      <td>(1, 0, 0)</td>\n",
       "      <td>1</td>\n",
       "    </tr>\n",
       "    <tr>\n",
       "      <th>1</th>\n",
       "      <td>(1, 0, 1)</td>\n",
       "      <td>1</td>\n",
       "    </tr>\n",
       "    <tr>\n",
       "      <th>2</th>\n",
       "      <td>(1, 1, 0)</td>\n",
       "      <td>1</td>\n",
       "    </tr>\n",
       "    <tr>\n",
       "      <th>3</th>\n",
       "      <td>(1, 1, 1)</td>\n",
       "      <td>0</td>\n",
       "    </tr>\n",
       "  </tbody>\n",
       "</table>\n",
       "</div>"
      ],
      "text/plain": [
       "        data  target\n",
       "0  (1, 0, 0)       1\n",
       "1  (1, 0, 1)       1\n",
       "2  (1, 1, 0)       1\n",
       "3  (1, 1, 1)       0"
      ]
     },
     "execution_count": 24,
     "metadata": {},
     "output_type": "execute_result"
    }
   ],
   "source": [
    "conjunto_de_entrenamiento_df = pd.DataFrame([((1, 0, 0), 1), ((1, 0, 1), 1), ((1, 1, 0), 1), ((1, 1, 1), 0)], columns=['data', 'target'])\n",
    "conjunto_de_entrenamiento_df"
   ]
  },
  {
   "cell_type": "code",
   "execution_count": 36,
   "metadata": {
    "slideshow": {
     "slide_type": "slide"
    }
   },
   "outputs": [
    {
     "name": "stdout",
     "output_type": "stream",
     "text": [
      "------------------------------------------------------------\n",
      "Los pesos son: \n",
      "[0, 0, 0]\n",
      "El resultado es: 0\n",
      "Se esperaba: 1\n",
      "Entonces el error es: 1\n",
      "\n",
      "El contador de errores es: 1\n",
      "\n",
      "Los pesos son: \n",
      "[0.1, 0.0, 0.0]\n",
      "El resultado es: 0\n",
      "Se esperaba: 1\n",
      "Entonces el error es: 1\n",
      "\n",
      "El contador de errores es: 2\n",
      "\n",
      "Los pesos son: \n",
      "[0.2, 0.0, 0.1]\n",
      "El resultado es: 0\n",
      "Se esperaba: 1\n",
      "Entonces el error es: 1\n",
      "\n",
      "El contador de errores es: 3\n",
      "\n",
      "Los pesos son: \n",
      "[0.30000000000000004, 0.1, 0.1]\n",
      "El resultado es: 0\n",
      "Se esperaba: 0\n",
      "Entonces el error es: 0\n",
      "\n",
      "El contador de errores es: 3\n",
      "\n",
      "------------------------------------------------------------\n",
      "Los pesos son: \n",
      "[0.30000000000000004, 0.1, 0.1]\n",
      "El resultado es: 0\n",
      "Se esperaba: 1\n",
      "Entonces el error es: 1\n",
      "\n",
      "El contador de errores es: 1\n",
      "\n",
      "Los pesos son: \n",
      "[0.4, 0.1, 0.1]\n",
      "El resultado es: 0\n",
      "Se esperaba: 1\n",
      "Entonces el error es: 1\n",
      "\n",
      "El contador de errores es: 2\n",
      "\n",
      "Los pesos son: \n",
      "[0.5, 0.1, 0.2]\n",
      "El resultado es: 1\n",
      "Se esperaba: 1\n",
      "Entonces el error es: 0\n",
      "\n",
      "El contador de errores es: 2\n",
      "\n",
      "Los pesos son: \n",
      "[0.5, 0.1, 0.2]\n",
      "El resultado es: 1\n",
      "Se esperaba: 0\n",
      "Entonces el error es: -1\n",
      "\n",
      "El contador de errores es: 3\n",
      "\n",
      "------------------------------------------------------------\n",
      "Los pesos son: \n",
      "[0.4, 0.0, 0.1]\n",
      "El resultado es: 0\n",
      "Se esperaba: 1\n",
      "Entonces el error es: 1\n",
      "\n",
      "El contador de errores es: 1\n",
      "\n",
      "Los pesos son: \n",
      "[0.5, 0.0, 0.1]\n",
      "El resultado es: 1\n",
      "Se esperaba: 1\n",
      "Entonces el error es: 0\n",
      "\n",
      "El contador de errores es: 1\n",
      "\n",
      "Los pesos son: \n",
      "[0.5, 0.0, 0.1]\n",
      "El resultado es: 0\n",
      "Se esperaba: 1\n",
      "Entonces el error es: 1\n",
      "\n",
      "El contador de errores es: 2\n",
      "\n",
      "Los pesos son: \n",
      "[0.6, 0.1, 0.1]\n",
      "El resultado es: 1\n",
      "Se esperaba: 0\n",
      "Entonces el error es: -1\n",
      "\n",
      "El contador de errores es: 3\n",
      "\n",
      "------------------------------------------------------------\n",
      "Los pesos son: \n",
      "[0.5, 0.0, 0.0]\n",
      "El resultado es: 0\n",
      "Se esperaba: 1\n",
      "Entonces el error es: 1\n",
      "\n",
      "El contador de errores es: 1\n",
      "\n",
      "Los pesos son: \n",
      "[0.6, 0.0, 0.0]\n",
      "El resultado es: 1\n",
      "Se esperaba: 1\n",
      "Entonces el error es: 0\n",
      "\n",
      "El contador de errores es: 1\n",
      "\n",
      "Los pesos son: \n",
      "[0.6, 0.0, 0.0]\n",
      "El resultado es: 1\n",
      "Se esperaba: 1\n",
      "Entonces el error es: 0\n",
      "\n",
      "El contador de errores es: 1\n",
      "\n",
      "Los pesos son: \n",
      "[0.6, 0.0, 0.0]\n",
      "El resultado es: 1\n",
      "Se esperaba: 0\n",
      "Entonces el error es: -1\n",
      "\n",
      "El contador de errores es: 2\n",
      "\n",
      "------------------------------------------------------------\n",
      "Los pesos son: \n",
      "[0.5, -0.1, -0.1]\n",
      "El resultado es: 0\n",
      "Se esperaba: 1\n",
      "Entonces el error es: 1\n",
      "\n",
      "El contador de errores es: 1\n",
      "\n",
      "Los pesos son: \n",
      "[0.6, -0.1, -0.1]\n",
      "El resultado es: 0\n",
      "Se esperaba: 1\n",
      "Entonces el error es: 1\n",
      "\n",
      "El contador de errores es: 2\n",
      "\n",
      "Los pesos son: \n",
      "[0.7, -0.1, 0.0]\n",
      "El resultado es: 1\n",
      "Se esperaba: 1\n",
      "Entonces el error es: 0\n",
      "\n",
      "El contador de errores es: 2\n",
      "\n",
      "Los pesos son: \n",
      "[0.7, -0.1, 0.0]\n",
      "El resultado es: 1\n",
      "Se esperaba: 0\n",
      "Entonces el error es: -1\n",
      "\n",
      "El contador de errores es: 3\n",
      "\n",
      "------------------------------------------------------------\n",
      "Los pesos son: \n",
      "[0.6, -0.2, -0.1]\n",
      "El resultado es: 1\n",
      "Se esperaba: 1\n",
      "Entonces el error es: 0\n",
      "\n",
      "El contador de errores es: 0\n",
      "\n",
      "Los pesos son: \n",
      "[0.6, -0.2, -0.1]\n",
      "El resultado es: 0\n",
      "Se esperaba: 1\n",
      "Entonces el error es: 1\n",
      "\n",
      "El contador de errores es: 1\n",
      "\n",
      "Los pesos son: \n",
      "[0.7, -0.2, 0.0]\n",
      "El resultado es: 0\n",
      "Se esperaba: 1\n",
      "Entonces el error es: 1\n",
      "\n",
      "El contador de errores es: 2\n",
      "\n",
      "Los pesos son: \n",
      "[0.7999999999999999, -0.1, 0.0]\n",
      "El resultado es: 1\n",
      "Se esperaba: 0\n",
      "Entonces el error es: -1\n",
      "\n",
      "El contador de errores es: 3\n",
      "\n",
      "------------------------------------------------------------\n",
      "Los pesos son: \n",
      "[0.7, -0.2, -0.1]\n",
      "El resultado es: 1\n",
      "Se esperaba: 1\n",
      "Entonces el error es: 0\n",
      "\n",
      "El contador de errores es: 0\n",
      "\n",
      "Los pesos son: \n",
      "[0.7, -0.2, -0.1]\n",
      "El resultado es: 1\n",
      "Se esperaba: 1\n",
      "Entonces el error es: 0\n",
      "\n",
      "El contador de errores es: 0\n",
      "\n",
      "Los pesos son: \n",
      "[0.7, -0.2, -0.1]\n",
      "El resultado es: 0\n",
      "Se esperaba: 1\n",
      "Entonces el error es: 1\n",
      "\n",
      "El contador de errores es: 1\n",
      "\n",
      "Los pesos son: \n",
      "[0.7999999999999999, -0.1, -0.1]\n",
      "El resultado es: 1\n",
      "Se esperaba: 0\n",
      "Entonces el error es: -1\n",
      "\n",
      "El contador de errores es: 2\n",
      "\n",
      "------------------------------------------------------------\n",
      "Los pesos son: \n",
      "[0.7, -0.2, -0.2]\n",
      "El resultado es: 1\n",
      "Se esperaba: 1\n",
      "Entonces el error es: 0\n",
      "\n",
      "El contador de errores es: 0\n",
      "\n",
      "Los pesos son: \n",
      "[0.7, -0.2, -0.2]\n",
      "El resultado es: 0\n",
      "Se esperaba: 1\n",
      "Entonces el error es: 1\n",
      "\n",
      "El contador de errores es: 1\n",
      "\n",
      "Los pesos son: \n",
      "[0.7999999999999999, -0.2, -0.1]\n",
      "El resultado es: 1\n",
      "Se esperaba: 1\n",
      "Entonces el error es: 0\n",
      "\n",
      "El contador de errores es: 1\n",
      "\n",
      "Los pesos son: \n",
      "[0.7999999999999999, -0.2, -0.1]\n",
      "El resultado es: 0\n",
      "Se esperaba: 0\n",
      "Entonces el error es: 0\n",
      "\n",
      "El contador de errores es: 1\n",
      "\n",
      "------------------------------------------------------------\n",
      "Los pesos son: \n",
      "[0.7999999999999999, -0.2, -0.1]\n",
      "El resultado es: 1\n",
      "Se esperaba: 1\n",
      "Entonces el error es: 0\n",
      "\n",
      "El contador de errores es: 0\n",
      "\n",
      "Los pesos son: \n",
      "[0.7999999999999999, -0.2, -0.1]\n",
      "El resultado es: 1\n",
      "Se esperaba: 1\n",
      "Entonces el error es: 0\n",
      "\n",
      "El contador de errores es: 0\n",
      "\n",
      "Los pesos son: \n",
      "[0.7999999999999999, -0.2, -0.1]\n",
      "El resultado es: 1\n",
      "Se esperaba: 1\n",
      "Entonces el error es: 0\n",
      "\n",
      "El contador de errores es: 0\n",
      "\n",
      "Los pesos son: \n",
      "[0.7999999999999999, -0.2, -0.1]\n",
      "El resultado es: 0\n",
      "Se esperaba: 0\n",
      "Entonces el error es: 0\n",
      "\n",
      "El contador de errores es: 0\n",
      "\n",
      "\n",
      "Finalmente, el error es 0!\n"
     ]
    }
   ],
   "source": [
    "umbral = 0.5\n",
    "tasa_de_aprendizaje = 0.1\n",
    "pesos = [0, 0, 0]\n",
    "conjunto_de_entrenamiento = [((1, 0, 0), 1), ((1, 0, 1), 1), ((1, 1, 0), 1), ((1, 1, 1), 0)]\n",
    "\n",
    "def producto_punto(valores, pesos):\n",
    "    return sum(valor * peso for valor, peso in zip(valores, pesos))\n",
    "\n",
    "while True:\n",
    "    print('-' * 60)\n",
    "    contador_de_errores = 0\n",
    "    for vector_de_entrada, salida_deseada in conjunto_de_entrenamiento:\n",
    "        print('Los pesos son: ')\n",
    "        print(pesos)\n",
    "        resultado = producto_punto(vector_de_entrada, pesos) > umbral\n",
    "        print('El resultado es: '+str(int(resultado)))\n",
    "        print('Se esperaba: '+str(salida_deseada))\n",
    "        error = salida_deseada - resultado\n",
    "        print('Entonces el error es: '+str(error))\n",
    "        if error != 0:\n",
    "            contador_de_errores += 1\n",
    "            for indice, valor in enumerate(vector_de_entrada):\n",
    "                pesos[indice] += tasa_de_aprendizaje * error * valor\n",
    "        print('\\nEl contador de errores es: '+str(contador_de_errores)+'\\n')\n",
    "        \n",
    "    if contador_de_errores == 0:\n",
    "        print(\"\\nFinalmente, el error es 0!\")\n",
    "        break"
   ]
  },
  {
   "cell_type": "markdown",
   "metadata": {
    "slideshow": {
     "slide_type": "slide"
    }
   },
   "source": [
    "<img src= 'PerceptroTraining1.jpg'>"
   ]
  },
  {
   "cell_type": "markdown",
   "metadata": {
    "slideshow": {
     "slide_type": "slide"
    }
   },
   "source": [
    "<img src= 'PerceptroTraining2.jpg'>"
   ]
  },
  {
   "cell_type": "markdown",
   "metadata": {
    "slideshow": {
     "slide_type": "slide"
    }
   },
   "source": [
    "<img src= 'PerceptroTraining3.jpg'>"
   ]
  },
  {
   "cell_type": "markdown",
   "metadata": {
    "slideshow": {
     "slide_type": "slide"
    }
   },
   "source": [
    "<img src= 'PerceptroTraining4.jpg'>"
   ]
  },
  {
   "cell_type": "markdown",
   "metadata": {
    "slideshow": {
     "slide_type": "slide"
    }
   },
   "source": [
    "## Redes Neuronales \n",
    "\n",
    "(Warren McCulloch y Walter Pitts ) (1943)\n",
    "\n",
    "\n",
    "\n",
    "### Neuronas\n",
    "\n",
    "Fuente de la mayoría de lo que sigue: https://victorzhou.com/blog/intro-to-neural-networks/\n"
   ]
  },
  {
   "cell_type": "markdown",
   "metadata": {
    "slideshow": {
     "slide_type": "slide"
    }
   },
   "source": [
    "<img src='https://i.stack.imgur.com/KUvpQ.png'>"
   ]
  },
  {
   "cell_type": "markdown",
   "metadata": {
    "slideshow": {
     "slide_type": "skip"
    }
   },
   "source": [
    "Las redes neuronales difieren de los perceptrones en que una transformación no-lineal diferenciable es aplicada en la salida. En las redes neuronales, para cada neurona se cumple lo siguiente:\n",
    "\n",
    "Si tenemos $x_i$ inputs para una neurona y $w_i$ pesos con $x_0 = 1$ y $w_0=b$, entonces el proceso de calculo de la señal de salida de la neurona es: \n",
    "\n",
    "$$f( \\sum_{i=o}^{n} x_i*w_i)$$\n",
    "\n",
    "La función f es llamada una función de activación y hay varias usadas en la literatura. Una común es la función sigmoide, que ya encontrabamos cuando tratabamos el tema de regresión logística. "
   ]
  },
  {
   "cell_type": "markdown",
   "metadata": {
    "slideshow": {
     "slide_type": "slide"
    }
   },
   "source": [
    "Recuerden que la función sigmoide está dada por: \n",
    "$$f(x)=\\frac{1}{1+e^{-x}}$$\n",
    "\n",
    "<img src='https://victorzhou.com/static/dd5a39500acbef371d8d791d2cd381e0/e334e/sigmoid.png'>"
   ]
  },
  {
   "cell_type": "markdown",
   "metadata": {
    "slideshow": {
     "slide_type": "slide"
    }
   },
   "source": [
    "### Ejemplo: \n",
    "Supongan que tenemos una red con los siguientes parametros para los pesos y el 'sesgo': \n",
    "\n",
    "$$w=[0,1]$$\n",
    "$$b = 4 $$\n",
    "\n",
    "Le damos a la red de una neurona una entrada como la que sigue: $ x = [2, 3]$. Usando la función sigmoide cual sería el resultado de pasar estos inputs por nuestra neurona. "
   ]
  },
  {
   "cell_type": "markdown",
   "metadata": {
    "slideshow": {
     "slide_type": "slide"
    }
   },
   "source": [
    "Los elempentos de entrada multiplicada por los pesos resulta en: \n",
    "\n",
    "$$b+ w_1*x_1 + w_2*x_2 = 0*2+1*3+4 =7 $$\n",
    "\n",
    "Luego, debemos hacer la transformación no lineal:\n",
    "\n",
    "$$f(7) =\\frac{1}{1+e^{-7}} = 0.99$$\n",
    "\n",
    "El resultado para una neurona con estos pesos y ese vector de entrada es 0.99."
   ]
  },
  {
   "cell_type": "markdown",
   "metadata": {
    "slideshow": {
     "slide_type": "slide"
    }
   },
   "source": [
    "### Más de una capa"
   ]
  },
  {
   "cell_type": "markdown",
   "metadata": {
    "slideshow": {
     "slide_type": "slide"
    }
   },
   "source": [
    "Ahora supongamos que tenemos más de una neurona. Y supongamos que están organizadas en capas. La capa inicial o Input layer es la que interactua directamente con los vectores de entrada. \n",
    "\n",
    "Las capas siguientes se llaman capas ocultas o hidden layers y la última capa, es la capa de salida o Output Layer. "
   ]
  },
  {
   "cell_type": "markdown",
   "metadata": {
    "slideshow": {
     "slide_type": "slide"
    }
   },
   "source": [
    "<img src='https://victorzhou.com/77ed172fdef54ca1ffcfb0bba27ba334/network.svg'>"
   ]
  },
  {
   "cell_type": "markdown",
   "metadata": {
    "slideshow": {
     "slide_type": "slide"
    }
   },
   "source": [
    "Siguiendo con el ejemplo anterior, asumamos que todas las neuronas tienen los mismos pesos $w=[0,1]$ y el sesgo $b=0$, y que los valores de entrada son igual que antes $x = [2, 3]$:\n",
    "\n",
    "\n"
   ]
  },
  {
   "cell_type": "markdown",
   "metadata": {
    "slideshow": {
     "slide_type": "slide"
    }
   },
   "source": [
    "Siguiendo con el ejemplo anterior, asumamos que todas las neuronas tienen los mismos pesos $w=[0,1]$ y el sesgo $b=0$, y que los valores de entrada son igual que antes $x = [2, 3]$:\n",
    "\n",
    "\n",
    "$$h_1 =h_2  \n",
    "=f(w⋅x+b)\n",
    "=f((0∗2)+(1∗3)+0)\n",
    "=f(3)\n",
    "=0.9526$$"
   ]
  },
  {
   "cell_type": "markdown",
   "metadata": {
    "slideshow": {
     "slide_type": "slide"
    }
   },
   "source": [
    "\n",
    "$$ o_1 =f(w⋅[h_1 ,h_2 ]+b)$$ \n",
    "\n",
    "$$=f((0∗h_1)+(1∗h_2)+0)=f(0.9526) =  0.7216 $$\n",
    "\n",
    " "
   ]
  },
  {
   "cell_type": "markdown",
   "metadata": {
    "slideshow": {
     "slide_type": "slide"
    }
   },
   "source": [
    "La salida de la red es 0.7216. Siempre que tengan una red neuronal el proceso de propagación de información de entrada a la información de salida se realiza de la misma manera. Este proceso se llama ***feedforward***"
   ]
  },
  {
   "cell_type": "markdown",
   "metadata": {
    "slideshow": {
     "slide_type": "slide"
    }
   },
   "source": [
    "## Entrenando una red neuronal"
   ]
  },
  {
   "cell_type": "markdown",
   "metadata": {
    "slideshow": {
     "slide_type": "slide"
    }
   },
   "source": [
    "Lo primero que debemos hacer es comparar el resultado de la predicción de la red neuronal con el valor real que queríamos aprender. Como vimos con el perceptron el proceso de ajuste de los pesos se realiza de manera iterativa tomando cada uno de las observaciones en el dataset y el proceso termina cuando el error en cada una de las observaciones es 0. "
   ]
  },
  {
   "cell_type": "markdown",
   "metadata": {
    "slideshow": {
     "slide_type": "slide"
    }
   },
   "source": [
    "Función de Error o \"Perdida\": \n",
    "La función error a usar depende del problema, si es regresión o clasificación. En regresión, en el caso de regresión podemos usar el error cuadrado promedio: \n",
    "\n",
    "$$ MSE  = \\frac{1}{n} \\sum_{i_0}^n (y_{real}-y_{pred})^2 $$\n",
    "\n",
    "donde $y_{pred}$ es el resultado de pasar datos de entrada $x$ a traves de la red neuronal."
   ]
  },
  {
   "cell_type": "code",
   "execution_count": 72,
   "metadata": {
    "slideshow": {
     "slide_type": "slide"
    }
   },
   "outputs": [
    {
     "name": "stdout",
     "output_type": "stream",
     "text": [
      "0.5\n"
     ]
    }
   ],
   "source": [
    "def mse_loss(y_true, y_pred):\n",
    "  # y_true and y_pred are numpy arrays of the same length.\n",
    "  return ((y_true - y_pred) ** 2).mean()\n",
    "\n",
    "y_true = np.array([1, 0, 0, 1])\n",
    "y_pred = np.array([0, 0, 0, 0])\n",
    "\n",
    "print(mse_loss(y_true, y_pred)) "
   ]
  },
  {
   "cell_type": "markdown",
   "metadata": {
    "slideshow": {
     "slide_type": "slide"
    }
   },
   "source": [
    "## Objetivo: Minimizar el error o perdida. "
   ]
  },
  {
   "cell_type": "markdown",
   "metadata": {
    "slideshow": {
     "slide_type": "slide"
    }
   },
   "source": [
    "Para lograr cambiar la predicción y por ende la pérdida, podemos cambiar los pesos de la red. ¿Cómo se relaciona el error de predicción y los pesos?"
   ]
  },
  {
   "cell_type": "markdown",
   "metadata": {
    "slideshow": {
     "slide_type": "slide"
    }
   },
   "source": [
    "<img src='https://victorzhou.com/27cf280166d7159c0465a58c68f99b39/network3.svg'>"
   ]
  },
  {
   "cell_type": "markdown",
   "metadata": {
    "slideshow": {
     "slide_type": "slide"
    }
   },
   "source": [
    "Entonces la función perdida es una función de todos los pesos y sesgos de cada neurona en el modelo.\n",
    "\n",
    "$$L(w_1, w_2, w_3, w_4, w_5, w_6, b_1, b_2, b_3)$$"
   ]
  },
  {
   "cell_type": "markdown",
   "metadata": {
    "slideshow": {
     "slide_type": "slide"
    }
   },
   "source": [
    "## Backpropagation. "
   ]
  },
  {
   "cell_type": "markdown",
   "metadata": {
    "slideshow": {
     "slide_type": "slide"
    }
   },
   "source": [
    "Queremos enteder como la función perdidad cambia al cambiar los pesos, por ejemplo $w_1$, para eso podríamos calcular $\\frac{\\partial L}{\\partial w_1}$.\n",
    "\n",
    "Usando la regla de la cadena vemos que $\\frac{\\partial L}{\\partial w_1} = \\frac{\\partial L}{\\partial y_{pred}} * \\frac{\\partial y_{pred}}{\\partial w_1}$"
   ]
  },
  {
   "cell_type": "markdown",
   "metadata": {
    "slideshow": {
     "slide_type": "slide"
    }
   },
   "source": [
    "El cambio en $w_1$ afecta la salida de la hidden unit $h_1$. Entonces podemos descomponer el último término aún mas: \n",
    "\n",
    "$$\\frac{\\partial L}{\\partial w_1} = \\frac{\\partial L}{\\partial y_{pred}} *\\frac{\\partial y_{pred}}{\\partial h_1}* \\frac{\\partial h_1}{\\partial w_1}$$"
   ]
  },
  {
   "cell_type": "markdown",
   "metadata": {
    "slideshow": {
     "slide_type": "slide"
    }
   },
   "source": [
    "Revisemos solo el último paso: \n",
    "\n",
    "$$h_1 =f(w_1*x_1 +w_2 *x_2 +b_1 )$$\n",
    "\n",
    "donde $f$ es nuestra función de activación, supongamos por ahora que es la función sigmoide. Y debemos diferenciar con respecto a $w_1$, vemos que el el resultado sería \n",
    "\n",
    "$$ \\frac{ \\partial h_1}{\\partial w_1}= x_1 f'(w_1*x_1 +w_2 *x_2 +b_1 )$$"
   ]
  },
  {
   "cell_type": "markdown",
   "metadata": {
    "slideshow": {
     "slide_type": "slide"
    }
   },
   "source": [
    "La función $f$ la hemos asumido como $f(x) = \\frac{1}{1+e^{-x}}$. \n",
    "\n",
    "Entonces $$f'(x) = f(x)*(1-f(x))$$"
   ]
  },
  {
   "cell_type": "markdown",
   "metadata": {
    "slideshow": {
     "slide_type": "slide"
    }
   },
   "source": [
    "Este proceso se llama error backpropagation o propagación del error hacia atras. "
   ]
  },
  {
   "cell_type": "markdown",
   "metadata": {
    "slideshow": {
     "slide_type": "slide"
    }
   },
   "source": [
    "## Stochastic Gradient Descent"
   ]
  },
  {
   "cell_type": "markdown",
   "metadata": {
    "slideshow": {
     "slide_type": "slide"
    }
   },
   "source": [
    "Vamos a usar una regla de actualización para cambiar los pesos y vamos a usar la propogación de errores para guiar la actualización de los pesos. \n",
    "\n",
    "Este algorítmo se basa en cambiar los pesos, digamos $w_1$ por: \n",
    "\n",
    "$$ w_1 \\leftarrow w_1 - \\eta \\frac{\\partial L}{\\partial w_1} $$\t"
   ]
  },
  {
   "cell_type": "markdown",
   "metadata": {
    "slideshow": {
     "slide_type": "slide"
    }
   },
   "source": [
    "* Si $ \\frac{\\partial L}{\\partial w_1} $ es positivo, entonces $w_1$ va a disminuir y el error $L$ va a disminuir.\n",
    "* Si $ \\frac{\\partial L}{\\partial w_1} $ es negativo, entonces $w_1$ va a aumentar y el error $L$ va a disminuir.\n",
    "\n",
    "En cualquier caso estamos afectando el peso $w_1$ y con ello disminuyendo el error."
   ]
  },
  {
   "cell_type": "markdown",
   "metadata": {
    "slideshow": {
     "slide_type": "slide"
    }
   },
   "source": [
    "1. Elegimimos una observación al azar y calculamos la predicción y el error\n",
    "2. Calculamos las derivadas parciales con respecto a los pesos y sesgos.\n",
    "3. Actualizamos los pesos\n",
    "4. De vuelta al paso 1. \n",
    "\n",
    "Repetimos esto hasta que estemos por debajo de un umbral aceptable de errores. "
   ]
  },
  {
   "cell_type": "code",
   "execution_count": 62,
   "metadata": {
    "slideshow": {
     "slide_type": "notes"
    }
   },
   "outputs": [
    {
     "name": "stdout",
     "output_type": "stream",
     "text": [
      "Epoch 0 loss: 0.550\n",
      "Epoch 10 loss: 0.143\n",
      "Epoch 20 loss: 0.104\n",
      "Epoch 30 loss: 0.077\n",
      "Epoch 40 loss: 0.060\n",
      "Epoch 50 loss: 0.048\n",
      "Epoch 60 loss: 0.040\n",
      "Epoch 70 loss: 0.035\n",
      "Epoch 80 loss: 0.030\n",
      "Epoch 90 loss: 0.027\n",
      "Epoch 100 loss: 0.024\n",
      "Epoch 110 loss: 0.022\n",
      "Epoch 120 loss: 0.020\n",
      "Epoch 130 loss: 0.019\n",
      "Epoch 140 loss: 0.017\n",
      "Epoch 150 loss: 0.016\n",
      "Epoch 160 loss: 0.015\n",
      "Epoch 170 loss: 0.014\n",
      "Epoch 180 loss: 0.013\n",
      "Epoch 190 loss: 0.013\n",
      "Epoch 200 loss: 0.012\n",
      "Epoch 210 loss: 0.011\n",
      "Epoch 220 loss: 0.011\n",
      "Epoch 230 loss: 0.010\n",
      "Epoch 240 loss: 0.010\n",
      "Epoch 250 loss: 0.009\n",
      "Epoch 260 loss: 0.009\n",
      "Epoch 270 loss: 0.009\n",
      "Epoch 280 loss: 0.008\n",
      "Epoch 290 loss: 0.008\n",
      "Epoch 300 loss: 0.008\n",
      "Epoch 310 loss: 0.008\n",
      "Epoch 320 loss: 0.007\n",
      "Epoch 330 loss: 0.007\n",
      "Epoch 340 loss: 0.007\n",
      "Epoch 350 loss: 0.007\n",
      "Epoch 360 loss: 0.006\n",
      "Epoch 370 loss: 0.006\n",
      "Epoch 380 loss: 0.006\n",
      "Epoch 390 loss: 0.006\n",
      "Epoch 400 loss: 0.006\n",
      "Epoch 410 loss: 0.006\n",
      "Epoch 420 loss: 0.006\n",
      "Epoch 430 loss: 0.005\n",
      "Epoch 440 loss: 0.005\n",
      "Epoch 450 loss: 0.005\n",
      "Epoch 460 loss: 0.005\n",
      "Epoch 470 loss: 0.005\n",
      "Epoch 480 loss: 0.005\n",
      "Epoch 490 loss: 0.005\n",
      "Epoch 500 loss: 0.005\n",
      "Epoch 510 loss: 0.004\n",
      "Epoch 520 loss: 0.004\n",
      "Epoch 530 loss: 0.004\n",
      "Epoch 540 loss: 0.004\n",
      "Epoch 550 loss: 0.004\n",
      "Epoch 560 loss: 0.004\n",
      "Epoch 570 loss: 0.004\n",
      "Epoch 580 loss: 0.004\n",
      "Epoch 590 loss: 0.004\n",
      "Epoch 600 loss: 0.004\n",
      "Epoch 610 loss: 0.004\n",
      "Epoch 620 loss: 0.004\n",
      "Epoch 630 loss: 0.004\n",
      "Epoch 640 loss: 0.004\n",
      "Epoch 650 loss: 0.003\n",
      "Epoch 660 loss: 0.003\n",
      "Epoch 670 loss: 0.003\n",
      "Epoch 680 loss: 0.003\n",
      "Epoch 690 loss: 0.003\n",
      "Epoch 700 loss: 0.003\n",
      "Epoch 710 loss: 0.003\n",
      "Epoch 720 loss: 0.003\n",
      "Epoch 730 loss: 0.003\n",
      "Epoch 740 loss: 0.003\n",
      "Epoch 750 loss: 0.003\n",
      "Epoch 760 loss: 0.003\n",
      "Epoch 770 loss: 0.003\n",
      "Epoch 780 loss: 0.003\n",
      "Epoch 790 loss: 0.003\n",
      "Epoch 800 loss: 0.003\n",
      "Epoch 810 loss: 0.003\n",
      "Epoch 820 loss: 0.003\n",
      "Epoch 830 loss: 0.003\n",
      "Epoch 840 loss: 0.003\n",
      "Epoch 850 loss: 0.003\n",
      "Epoch 860 loss: 0.003\n",
      "Epoch 870 loss: 0.003\n",
      "Epoch 880 loss: 0.003\n",
      "Epoch 890 loss: 0.002\n",
      "Epoch 900 loss: 0.002\n",
      "Epoch 910 loss: 0.002\n",
      "Epoch 920 loss: 0.002\n",
      "Epoch 930 loss: 0.002\n",
      "Epoch 940 loss: 0.002\n",
      "Epoch 950 loss: 0.002\n",
      "Epoch 960 loss: 0.002\n",
      "Epoch 970 loss: 0.002\n",
      "Epoch 980 loss: 0.002\n",
      "Epoch 990 loss: 0.002\n"
     ]
    }
   ],
   "source": [
    "import numpy as np\n",
    "\n",
    "def sigmoid(x):\n",
    "  # Sigmoid activation function: f(x) = 1 / (1 + e^(-x))\n",
    "  return 1 / (1 + np.exp(-x))\n",
    "\n",
    "def deriv_sigmoid(x):\n",
    "  # Derivative of sigmoid: f'(x) = f(x) * (1 - f(x))\n",
    "  fx = sigmoid(x)\n",
    "  return fx * (1 - fx)\n",
    "\n",
    "def mse_loss(y_true, y_pred):\n",
    "  # y_true and y_pred are numpy arrays of the same length.\n",
    "  return ((y_true - y_pred) ** 2).mean()\n",
    "\n",
    "class OurNeuralNetwork:\n",
    "  '''\n",
    "  A neural network with:\n",
    "    - 2 inputs\n",
    "    - a hidden layer with 2 neurons (h1, h2)\n",
    "    - an output layer with 1 neuron (o1)\n",
    "\n",
    "  *** DISCLAIMER ***:\n",
    "  The code below is intended to be simple and educational, NOT optimal.\n",
    "  Real neural net code looks nothing like this. DO NOT use this code.\n",
    "  Instead, read/run it to understand how this specific network works.\n",
    "  '''\n",
    "  def __init__(self):\n",
    "    # Weights\n",
    "    self.w1 = np.random.normal()\n",
    "    self.w2 = np.random.normal()\n",
    "    self.w3 = np.random.normal()\n",
    "    self.w4 = np.random.normal()\n",
    "    self.w5 = np.random.normal()\n",
    "    self.w6 = np.random.normal()\n",
    "\n",
    "    # Biases\n",
    "    self.b1 = np.random.normal()\n",
    "    self.b2 = np.random.normal()\n",
    "    self.b3 = np.random.normal()\n",
    "\n",
    "  def feedforward(self, x):\n",
    "    # x is a numpy array with 2 elements.\n",
    "    h1 = sigmoid(self.w1 * x[0] + self.w2 * x[1] + self.b1)\n",
    "    h2 = sigmoid(self.w3 * x[0] + self.w4 * x[1] + self.b2)\n",
    "    o1 = sigmoid(self.w5 * h1 + self.w6 * h2 + self.b3)\n",
    "    return o1\n",
    "\n",
    "  def train(self, data, all_y_trues):\n",
    "    '''\n",
    "    - data is a (n x 2) numpy array, n = # of samples in the dataset.\n",
    "    - all_y_trues is a numpy array with n elements.\n",
    "      Elements in all_y_trues correspond to those in data.\n",
    "    '''\n",
    "    learn_rate = 0.1\n",
    "    epochs = 1000 # number of times to loop through the entire dataset\n",
    "    losses = []\n",
    "    for epoch in range(epochs):\n",
    "      for x, y_true in zip(data, all_y_trues):\n",
    "        # --- Do a feedforward (we'll need these values later)\n",
    "        sum_h1 = self.w1 * x[0] + self.w2 * x[1] + self.b1\n",
    "        h1 = sigmoid(sum_h1)\n",
    "\n",
    "        sum_h2 = self.w3 * x[0] + self.w4 * x[1] + self.b2\n",
    "        h2 = sigmoid(sum_h2)\n",
    "\n",
    "        sum_o1 = self.w5 * h1 + self.w6 * h2 + self.b3\n",
    "        o1 = sigmoid(sum_o1)\n",
    "        y_pred = o1\n",
    "\n",
    "        # --- Calculate partial derivatives.\n",
    "        # --- Naming: d_L_d_w1 represents \"partial L / partial w1\"\n",
    "        d_L_d_ypred = -2 * (y_true - y_pred)\n",
    "\n",
    "        # Neuron o1\n",
    "        d_ypred_d_w5 = h1 * deriv_sigmoid(sum_o1)\n",
    "        d_ypred_d_w6 = h2 * deriv_sigmoid(sum_o1)\n",
    "        d_ypred_d_b3 = deriv_sigmoid(sum_o1)\n",
    "\n",
    "        d_ypred_d_h1 = self.w5 * deriv_sigmoid(sum_o1)\n",
    "        d_ypred_d_h2 = self.w6 * deriv_sigmoid(sum_o1)\n",
    "\n",
    "        # Neuron h1\n",
    "        d_h1_d_w1 = x[0] * deriv_sigmoid(sum_h1)\n",
    "        d_h1_d_w2 = x[1] * deriv_sigmoid(sum_h1)\n",
    "        d_h1_d_b1 = deriv_sigmoid(sum_h1)\n",
    "\n",
    "        # Neuron h2\n",
    "        d_h2_d_w3 = x[0] * deriv_sigmoid(sum_h2)\n",
    "        d_h2_d_w4 = x[1] * deriv_sigmoid(sum_h2)\n",
    "        d_h2_d_b2 = deriv_sigmoid(sum_h2)\n",
    "\n",
    "        # --- Update weights and biases\n",
    "        # Neuron h1\n",
    "        self.w1 -= learn_rate * d_L_d_ypred * d_ypred_d_h1 * d_h1_d_w1\n",
    "        self.w2 -= learn_rate * d_L_d_ypred * d_ypred_d_h1 * d_h1_d_w2\n",
    "        self.b1 -= learn_rate * d_L_d_ypred * d_ypred_d_h1 * d_h1_d_b1\n",
    "\n",
    "        # Neuron h2\n",
    "        self.w3 -= learn_rate * d_L_d_ypred * d_ypred_d_h2 * d_h2_d_w3\n",
    "        self.w4 -= learn_rate * d_L_d_ypred * d_ypred_d_h2 * d_h2_d_w4\n",
    "        self.b2 -= learn_rate * d_L_d_ypred * d_ypred_d_h2 * d_h2_d_b2\n",
    "\n",
    "        # Neuron o1\n",
    "        self.w5 -= learn_rate * d_L_d_ypred * d_ypred_d_w5\n",
    "        self.w6 -= learn_rate * d_L_d_ypred * d_ypred_d_w6\n",
    "        self.b3 -= learn_rate * d_L_d_ypred * d_ypred_d_b3\n",
    "\n",
    "      # --- Calculate total loss at the end of each epoch\n",
    "      if epoch % 10 == 0:\n",
    "        y_preds = np.apply_along_axis(self.feedforward, 1, data)\n",
    "        loss = mse_loss(all_y_trues, y_preds)\n",
    "        print(\"Epoch %d loss: %.3f\" % (epoch, loss))\n",
    "        losses.append(loss)\n",
    "    return losses\n",
    "\n",
    "# Define dataset\n",
    "data = np.array([\n",
    "  [-2, -1],  # Alice\n",
    "  [25, 6],   # Bob\n",
    "  [17, 4],   # Charlie\n",
    "  [-15, -6], # Diana\n",
    "])\n",
    "all_y_trues = np.array([\n",
    "  1, # Alice\n",
    "  0, # Bob\n",
    "  0, # Charlie\n",
    "  1, # Diana\n",
    "])\n",
    "\n",
    "# Train our neural network!\n",
    "network = OurNeuralNetwork()\n",
    "losses = network.train(data, all_y_trues)\n",
    "\n"
   ]
  },
  {
   "cell_type": "code",
   "execution_count": 65,
   "metadata": {
    "slideshow": {
     "slide_type": "slide"
    }
   },
   "outputs": [
    {
     "data": {
      "image/png": "[encoded data removed]",
      "text/plain": [
       "<Figure size 432x288 with 1 Axes>"
      ]
     },
     "metadata": {},
     "output_type": "display_data"
    }
   ],
   "source": [
    "from matplotlib import pyplot as plt\n",
    "import seaborn as sns\n",
    "\n",
    "sns.set()\n",
    "\n",
    "plt.plot(range(1, 101), losses)\n",
    "plt.ylabel('Error')\n",
    "plt.xlabel('Epoch')\n",
    "plt.show()"
   ]
  },
  {
   "cell_type": "markdown",
   "metadata": {
    "slideshow": {
     "slide_type": "skip"
    }
   },
   "source": []
  },
  {
   "cell_type": "markdown",
   "metadata": {
    "slideshow": {
     "slide_type": "slide"
    }
   },
   "source": [
    "[![TRAINING MLP VIDEO]()](https://www.youtube.com/embed/nrnxZVEHZCo)"
   ]
  },
  {
   "cell_type": "markdown",
   "metadata": {
    "slideshow": {
     "slide_type": "slide"
    }
   },
   "source": [
    "## Otras funciones de Activación:"
   ]
  },
  {
   "cell_type": "markdown",
   "metadata": {
    "slideshow": {
     "slide_type": "slide"
    }
   },
   "source": [
    "#### ReLU : Rectified Linear Unit\n",
    "\n",
    "$f(x) = 0$ si $x<0$ \n",
    "\n",
    "$f(x)=x$ si $x>=0$\n",
    "\n",
    "#### Softmax: \n",
    "Se emplea para \"comprimir\" un vector K-dimensional, $ \\mathbf {z}  $, de valores reales arbitrarios en un vector K-dimensional,$ \\sigma (\\mathbf {z} )$, de valores reales en el rango [0, 1].\n",
    "\n",
    "$f(x) = e^x/\\sum_i e^{x_i}$\n"
   ]
  }
 ],
 "metadata": {
  "celltoolbar": "Slideshow",
  "kernelspec": {
   "display_name": "Python 3",
   "language": "python",
   "name": "python3"
  },
  "language_info": {
   "codemirror_mode": {
    "name": "ipython",
    "version": 3
   },
   "file_extension": ".py",
   "mimetype": "text/x-python",
   "name": "python",
   "nbconvert_exporter": "python",
   "pygments_lexer": "ipython3",
   "version": "3.6.9"
  }
 },
 "nbformat": 4,
 "nbformat_minor": 2
}
