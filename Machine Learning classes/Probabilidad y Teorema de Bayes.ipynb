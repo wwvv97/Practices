{
 "cells": [
  {
   "cell_type": "code",
   "execution_count": 35,
   "metadata": {
    "slideshow": {
     "slide_type": "skip"
    }
   },
   "outputs": [],
   "source": [
    "import matplotlib.pyplot as plt\n",
    "import seaborn as sns\n",
    "import numpy as np"
   ]
  },
  {
   "cell_type": "markdown",
   "metadata": {
    "slideshow": {
     "slide_type": "slide"
    }
   },
   "source": [
    "# Probabilidad"
   ]
  },
  {
   "cell_type": "markdown",
   "metadata": {
    "slideshow": {
     "slide_type": "slide"
    }
   },
   "source": [
    "Como hemos visto hasta ahora la probabilidad es importante para entender tanto de forma teórica como intuitiva el aprendizaje de máquina (o Machine Learning). \n",
    "\n",
    "Hay varias interpretaciones de una probabilidad, una es la clásica que dice que la probabilidad de un evento es el numero de veces que pasa el evento entre el total de resultados de eventos. "
   ]
  },
  {
   "cell_type": "markdown",
   "metadata": {
    "slideshow": {
     "slide_type": "slide"
    }
   },
   "source": [
    "$$P(Evento\\, A) = \\frac{Evento\\, A}{Todos\\, los\\, posibles\\, eventos}$$\n"
   ]
  },
  {
   "cell_type": "markdown",
   "metadata": {
    "slideshow": {
     "slide_type": "slide"
    }
   },
   "source": [
    "Por ejemplo, la probabilidad de obterner 3 al lanzar un dado es 1 dividido por 6, por que hay 6 posibles resultados y solomante una forma de sacar 3. El problema con esta interpretación es que solamente pueden calcularse probabilidades para eventos finitos. No podrias calcular la probabilidad de tener cierta altura o estar en cierto rango de edades. \n",
    "\n"
   ]
  },
  {
   "cell_type": "markdown",
   "metadata": {
    "slideshow": {
     "slide_type": "slide"
    }
   },
   "source": [
    "### Interpretación Frequentista\n",
    "\n",
    "Otra interpretación es la frequentista en la que la probabilidad es un limite de la fracción de ocurrencias del evento entre el total de pruebas:\n",
    "\n",
    "$$P(Evento A) = lim_{N->+\\infty} \\frac {n_A}{N}$$ \n",
    "\n",
    "donde $N$ es el numero de pruebas y $n_A$ es el número de veces. Podemos ilustrar esto con código en Python, usando la librería random que nos permite crear números aleatorios:"
   ]
  },
  {
   "cell_type": "code",
   "execution_count": 129,
   "metadata": {
    "slideshow": {
     "slide_type": "slide"
    }
   },
   "outputs": [],
   "source": [
    "import random as rand"
   ]
  },
  {
   "cell_type": "markdown",
   "metadata": {
    "slideshow": {
     "slide_type": "slide"
    }
   },
   "source": [
    "Vamos a ver como la interpretación frequentista nos permitiría estimar la probabilidad que una moneda al ser lanzada caiga como decimos, cara o corona. Primero, creamos la función moneda que simula el lanzamiento de una moneda, que retorna 0 si la moneda es 'cara' y 1 si es 'corona'. "
   ]
  },
  {
   "cell_type": "code",
   "execution_count": 137,
   "metadata": {
    "slideshow": {
     "slide_type": "slide"
    }
   },
   "outputs": [
    {
     "data": {
      "text/plain": [
       "1"
      ]
     },
     "execution_count": 137,
     "metadata": {},
     "output_type": "execute_result"
    }
   ],
   "source": [
    "def moneda():\n",
    "    if rand.random()>0.5:\n",
    "        return 1\n",
    "    else: \n",
    "        return 0\n",
    "\n",
    "moneda()"
   ]
  },
  {
   "cell_type": "code",
   "execution_count": 138,
   "metadata": {
    "scrolled": false,
    "slideshow": {
     "slide_type": "slide"
    }
   },
   "outputs": [],
   "source": [
    "def experimento(iteraciones):\n",
    "    N=0\n",
    "    na=0\n",
    "    for i in range(iteraciones):\n",
    "        N = N + 1\n",
    "        na = na+moneda()\n",
    "    return float(na)/float(N)"
   ]
  },
  {
   "cell_type": "markdown",
   "metadata": {
    "slideshow": {
     "slide_type": "slide"
    }
   },
   "source": [
    "Creamos un experimento y ademas creamos una lista de experimentos para que veamos la variación de los resultados de cada experimento."
   ]
  },
  {
   "cell_type": "code",
   "execution_count": 140,
   "metadata": {
    "slideshow": {
     "slide_type": "slide"
    }
   },
   "outputs": [],
   "source": [
    "def Experimentos(lim):\n",
    "    lista_experimentos = []\n",
    "    for i in range(5):\n",
    "        lista_experimentos.append(experimento(lim))\n",
    "    return lista_experimentos"
   ]
  },
  {
   "cell_type": "markdown",
   "metadata": {
    "slideshow": {
     "slide_type": "slide"
    }
   },
   "source": [
    "Vemos que entre más experimentos corramos (N tiende a infinito) más nos acercamos a la predicción clásica de la probabilidad que una moneda caiga cara. "
   ]
  },
  {
   "cell_type": "code",
   "execution_count": 142,
   "metadata": {
    "slideshow": {
     "slide_type": "slide"
    }
   },
   "outputs": [
    {
     "name": "stdout",
     "output_type": "stream",
     "text": [
      "[0.4, 0.5, 0.5, 0.5, 0.4]\n",
      "[0.46, 0.54, 0.54, 0.55, 0.51]\n",
      "[0.512, 0.499, 0.478, 0.499, 0.51]\n",
      "[0.5024, 0.4998, 0.5007, 0.5039, 0.5073]\n"
     ]
    }
   ],
   "source": [
    "# N=10\n",
    "print(Experimentos(10))\n",
    "\n",
    "# N=100\n",
    "print(Experimentos(100))\n",
    "\n",
    "# N=1000\n",
    "print(Experimentos(1000))\n",
    " \n",
    "# N = 10000\n",
    "print(Experimentos(10000))"
   ]
  },
  {
   "cell_type": "markdown",
   "metadata": {
    "slideshow": {
     "slide_type": "slide"
    }
   },
   "source": [
    "### Interpretación Bayesiana\n",
    "\n",
    "Por último la interpretación Bayesiana tiene que ver con un grado de creencia o certeza. Por ejemplo, algo imposible ocurre con probabilidad 0 y algo absolutamente cierto pasa con probabilidad 1. Todo lo demás tiene un número entre 0 y 1 dependiendo del grado de certeza que creamos que tenga. \n",
    "\n",
    "A medida que vemos más información nuestras creencias sobre la probabilidad que un evento ocurra o sea cierto cambia. Y siempre debemos comenzar con un prior de creencia sobre un evento. \n",
    "\n",
    "En la literatura de Machine Learning es esta la interpretación de probabilidad que tiene mayor aceptación porque se hace mucho uso del teorema de Bayes que veremos más abajo. "
   ]
  },
  {
   "cell_type": "markdown",
   "metadata": {
    "slideshow": {
     "slide_type": "slide"
    }
   },
   "source": [
    "## Axiomas de Probabilidad\n",
    "\n",
    "Definimos como S al universo de eventos posibles y A es un evento en S. Además definimos P como una función de una '$\\sigma -algebra $ ' de S. Entonces, para que una función de probabilidad sea llamada así esta debe cumplir con estas caracterisitcas: \n",
    "\n",
    "$1.\\quad 0\\leq P(A)\\leq 1$ \n",
    "\n",
    "$2.\\quad P(S)=1$ \n",
    "\n",
    "Si $A_1$, $A_2$ .. son eventos mutuamente excluyentes entonces:\n",
    "\n",
    "$3.\\quad P(A_1 \\, U \\, A_2 \\, U ... U \\, A_n)=\\sum_{i=0}^{n} P(A_i)$"
   ]
  },
  {
   "cell_type": "markdown",
   "metadata": {
    "slideshow": {
     "slide_type": "slide"
    }
   },
   "source": [
    "## Teorema de Bayes"
   ]
  },
  {
   "cell_type": "markdown",
   "metadata": {
    "slideshow": {
     "slide_type": "slide"
    }
   },
   "source": [
    "Un concepto importante para entender como funcionan algunos de los modelo de probabilidad que usamos en Machine Learning es el del teorema de Bayes:\n",
    "\n",
    "$$ P (A|B) = \\frac{P(B|A)P(A)}{P(B)}$$\n",
    "\n",
    "donde $ P(A|B) $ es la probabilidad condicionada del evento $A$ dado que $B$ ocurra. "
   ]
  },
  {
   "cell_type": "markdown",
   "metadata": {
    "slideshow": {
     "slide_type": "slide"
    }
   },
   "source": [
    "Podemos aplicar el teorema al estudio de datos y nos servirá para medir la incertidumbre que tenemos sobre un modelo.\n",
    "\n",
    "asumiendo que tenemos un vector de parametros para un modelo $\\mathbf{w}$ y un conjunto de datos observados D. \n",
    "\n",
    "Entonces la probabilidad de que los parametros que describan el fenomeno observado dados los datos podemos escribirlo como $P(\\mathbf{w}|D)$ y usando el teorema de Bayes podemos reesbribir esta probabilidad como:\n",
    "\n",
    "$$ P(\\mathbf{w}|D) = \\frac{P(D|\\mathbf{w}) P(\\mathbf{w})}{P(D)} $$"
   ]
  },
  {
   "cell_type": "markdown",
   "metadata": {
    "slideshow": {
     "slide_type": "slide"
    }
   },
   "source": [
    "Es decir que la distribución de los parametros condicionada por los datos observados es proporcional a la probabilidad de observar esos datos dados esos parámetros y la constante de proporcionalidad es la creencia previa que teníamos sobre como se distribuyen realmente los parametros. \n",
    "\n",
    "La distribución de los datos puede ser vista como un término normalizador que "
   ]
  },
  {
   "cell_type": "markdown",
   "metadata": {
    "slideshow": {
     "slide_type": "slide"
    }
   },
   "source": [
    "### Probabilidad Total"
   ]
  },
  {
   "cell_type": "markdown",
   "metadata": {
    "slideshow": {
     "slide_type": "slide"
    }
   },
   "source": [
    "Si ${B_1, B_2, ... , B_n}$ es una partición del espacio muestral, entonces podemos escribir la probabilidad de que el evento $A$ suceda en las probabilidades condicionadas sobre los elementod de la particición:\n",
    "\n",
    "$$P(A) = \\sum_{i} P(A|B_i)P(B_i)$$"
   ]
  },
  {
   "cell_type": "markdown",
   "metadata": {
    "slideshow": {
     "slide_type": "slide"
    }
   },
   "source": [
    "Ejemplo: Imaginese que se hacen un examen médico para diagnosticar algún tipo de cancer, y que la probabilidad de que el examen sea positivo dado que el paciente está realmente enfermo es del 80%. \n",
    "\n",
    "Ahora si un doctor le dijera a un paciente que el examen resultó dar positivo, ¿debería el paciente preocuparse? "
   ]
  },
  {
   "cell_type": "markdown",
   "metadata": {
    "slideshow": {
     "slide_type": "slide"
    }
   },
   "source": [
    "Respuesta: No, necesariamente. \n",
    "    \n",
    "La razón es por que no ha tomado en cuenta la propabilidad base de que esté enfermo. Supongamos que la probabilidad de tener la enfermedad para la cual el paciente da positivo es 0.014. "
   ]
  },
  {
   "cell_type": "markdown",
   "metadata": {
    "slideshow": {
     "slide_type": "slide"
    }
   },
   "source": [
    "Entonces si $x=1$ es el evento que el examen de positivo, y $y=1$ si el paciente padece la enfermendad. Entonces la probabilidad que el paciente este enfermo es, dado que el examen da positivo es: \n",
    "\n",
    "$P(y=1 | x=1)  = \\dfrac{P(x=1 | y=1 )*P(y=1)}{P(x=1)}$"
   ]
  },
  {
   "cell_type": "markdown",
   "metadata": {
    "slideshow": {
     "slide_type": "slide"
    }
   },
   "source": [
    "Pero, por la ley de probabilidad total,  podemos escribir $P(x=1)= P(x=1 | y=1)* P(y=1) + P(x=1|y=0)* P(y=0)$"
   ]
  },
  {
   "cell_type": "code",
   "execution_count": 143,
   "metadata": {
    "slideshow": {
     "slide_type": "slide"
    }
   },
   "outputs": [
    {
     "data": {
      "text/plain": [
       "0.10200364298724955"
      ]
     },
     "execution_count": 143,
     "metadata": {},
     "output_type": "execute_result"
    }
   ],
   "source": [
    "P = (0.8)*0.014 /((0.8*0.014)+(0.10*0.986))\n",
    "P"
   ]
  },
  {
   "cell_type": "markdown",
   "metadata": {
    "slideshow": {
     "slide_type": "slide"
    }
   },
   "source": [
    "## Variables Aleatorias\n",
    "\n"
   ]
  },
  {
   "cell_type": "markdown",
   "metadata": {
    "slideshow": {
     "slide_type": "slide"
    }
   },
   "source": [
    "### Variables Discretas"
   ]
  },
  {
   "cell_type": "markdown",
   "metadata": {
    "slideshow": {
     "slide_type": "slide"
    }
   },
   "source": [
    "Una variable aleatoria discreta toma valores solamente en un conjunto finito o contablemente finito $\\chi$. Denotamos la probabilidad que el evento $X=x$ por $p(X=x)$, o de manera abreviada $p(x)$.\n",
    "\n",
    "Donde $p()$ es llamada una funcion de probabilidad o fmp. La cual tinene las propiedades $0 \\leq p(x) \\leq 1$ y $\\sum_{x \\in X} p(x)=1$.\n",
    "\n",
    "Los gráficos siguentes muestran dos fmp definidas sobre el espacio muestral  $X = {1, 2, 3, 4, 5}$. La primera es una distribucion uniforme, $p(x)=1/5$, la segunda, es una distribucion degenerada, $p(x) = I(x = 1)$, donde $I()$ es la variable indicador. Esta distribución inidica que X siempre es igual al valor 1, es decir, es una constante."
   ]
  },
  {
   "cell_type": "code",
   "execution_count": 59,
   "metadata": {
    "slideshow": {
     "slide_type": "slide"
    }
   },
   "outputs": [
    {
     "data": {
      "image/png": "[encoded data removed]",
      "text/plain": [
       "<Figure size 432x288 with 2 Axes>"
      ]
     },
     "metadata": {},
     "output_type": "display_data"
    }
   ],
   "source": [
    "x = [1, 2, 3, 4 , 5]\n",
    "z = [0.25,0.25,0.25,0.25 , 0]\n",
    "y = [1]\n",
    "plt.subplot(1, 2, 1)\n",
    "sns.barplot(x,z)\n",
    "plt.subplot(1, 2, 2)\n",
    "plt.hist(y)\n",
    "plt.show()"
   ]
  },
  {
   "cell_type": "markdown",
   "metadata": {
    "slideshow": {
     "slide_type": "slide"
    }
   },
   "source": [
    "### Distribución Binomial\n",
    "\n",
    "Suponga que lanza una moneda $n$ veces. Sea $X$ el número de caras. Si la probabilidad de lanzar caras es $p$, entonces decimos que $X$ tiene una distribución binomial:\n",
    "\n",
    "$$Bin(k|n, p) = {n \\choose k} p^k (1-p)^{n-k}$$\n",
    "\n",
    "Si lanzamos la moneda 1 sola vez, la distribución es llamada Bernoulli."
   ]
  },
  {
   "cell_type": "code",
   "execution_count": 146,
   "metadata": {
    "slideshow": {
     "slide_type": "slide"
    }
   },
   "outputs": [
    {
     "data": {
      "text/plain": [
       "<matplotlib.axes._subplots.AxesSubplot at 0x1aac0996c18>"
      ]
     },
     "execution_count": 146,
     "metadata": {},
     "output_type": "execute_result"
    },
    {
     "data": {
      "image/png": "[encoded data removed]",
      "text/plain": [
       "<Figure size 432x288 with 1 Axes>"
      ]
     },
     "metadata": {},
     "output_type": "display_data"
    }
   ],
   "source": [
    "def Binomial(j,p):\n",
    "    bin=[]\n",
    "    for i in range(10000):\n",
    "        bin.append(np.random.binomial(j, p))\n",
    "    return bin\n",
    "\n",
    "        \n",
    "        \n",
    "sns.set()\n",
    "sns.distplot(Binomial(4,0.3), kde=False)"
   ]
  },
  {
   "cell_type": "markdown",
   "metadata": {
    "slideshow": {
     "slide_type": "slide"
    }
   },
   "source": [
    "### Distribución Poisson\n",
    "\n",
    "Decimos que $X$ tiene una distribución de Poisson con parámetros $\\lambda >0$ si $$ Poi(x|\\lambda ) = e^{-\\lambda} \\frac{\\lambda^x}{x!}$$\n",
    "\n",
    "El primer término es una constante normalizadora, necesaria para que la distribución sume a 1. La distribución de Poisson es usada para modelar eventos raros como decaimiento radioactivo o accidentes de transito."
   ]
  },
  {
   "cell_type": "code",
   "execution_count": 147,
   "metadata": {
    "slideshow": {
     "slide_type": "slide"
    }
   },
   "outputs": [
    {
     "data": {
      "text/plain": [
       "<matplotlib.axes._subplots.AxesSubplot at 0x1aac0a42518>"
      ]
     },
     "execution_count": 147,
     "metadata": {},
     "output_type": "execute_result"
    },
    {
     "data": {
      "image/png": "[encoded data removed]",
      "text/plain": [
       "<Figure size 432x288 with 1 Axes>"
      ]
     },
     "metadata": {},
     "output_type": "display_data"
    }
   ],
   "source": [
    "def Poisson(l):\n",
    "    poi=[]\n",
    "    for i in range(10000):\n",
    "        poi.append(np.random.poisson(l))\n",
    "    return poi\n",
    "\n",
    "        \n",
    "        \n",
    "sns.set()\n",
    "sns.distplot(Poisson(13), kde=False)   "
   ]
  },
  {
   "cell_type": "markdown",
   "metadata": {
    "slideshow": {
     "slide_type": "slide"
    }
   },
   "source": [
    "## Variables continuas"
   ]
  },
  {
   "cell_type": "markdown",
   "metadata": {
    "slideshow": {
     "slide_type": "slide"
    }
   },
   "source": [
    "Las variables aleatorias continuas pueden tomar valores en un conjunto infinito. No tienen funciones de masa sino de densidad dadas por:\n",
    "\n",
    "$$p(a \\leq X \\leq b) = p(b)-p(a)$$\n",
    "\n",
    "donde $p(b)=p(X\\leq b )$ es la distribución acumulada. Ahora si definimos $F(x)=p(X\\leq x )$, la derivada con despecto a $x$ la llamamos la función densidad de probabilidad. Dada una función $f(x)=F'(x)$, podemos decir que:\n",
    "\n",
    "$$P(a \\leq X \\leq b) = \\int_a^b f(x)dx$$"
   ]
  },
  {
   "cell_type": "markdown",
   "metadata": {
    "slideshow": {
     "slide_type": "slide"
    }
   },
   "source": [
    "### Distribución Uniforme\n",
    "\n",
    "Una distribución uniforme es tal que \n",
    "\n",
    "$$Unif(x|a, b) = \\frac{1}{b-a} I(a\\leq x \\leq b)$$"
   ]
  },
  {
   "cell_type": "code",
   "execution_count": 126,
   "metadata": {
    "slideshow": {
     "slide_type": "slide"
    }
   },
   "outputs": [
    {
     "data": {
      "text/plain": [
       "<matplotlib.axes._subplots.AxesSubplot at 0x1aabff23e10>"
      ]
     },
     "execution_count": 126,
     "metadata": {},
     "output_type": "execute_result"
    },
    {
     "data": {
      "image/png": "[encoded data removed]",
      "text/plain": [
       "<Figure size 432x288 with 1 Axes>"
      ]
     },
     "metadata": {},
     "output_type": "display_data"
    }
   ],
   "source": [
    "uniform=[]\n",
    "for i in range(10000):\n",
    "    uniform.append(np.random.rand())\n",
    "unif = np.array(uniform)\n",
    "\n",
    "sns.set()\n",
    "sns.distplot(unif, kde=False)"
   ]
  },
  {
   "cell_type": "markdown",
   "metadata": {
    "slideshow": {
     "slide_type": "slide"
    }
   },
   "source": [
    "### Distribución Normal\n",
    "\n",
    "La distribución más usada en machine learning es la Normal. Su función de densidad está dada por \n",
    "\n",
    "$$ N(x | \\mu, \\sigma) = \\frac{1}{\\sqrt{2\\pi\\sigma^2}} e^{\\frac{-1}{2\\sigma^2} (x-\\mu)^2}$$"
   ]
  },
  {
   "cell_type": "code",
   "execution_count": 151,
   "metadata": {
    "slideshow": {
     "slide_type": "slide"
    }
   },
   "outputs": [
    {
     "data": {
      "text/plain": [
       "<matplotlib.axes._subplots.AxesSubplot at 0x1aac1d07ef0>"
      ]
     },
     "execution_count": 151,
     "metadata": {},
     "output_type": "execute_result"
    },
    {
     "data": {
      "image/png": "[encoded data removed]",
      "text/plain": [
       "<Figure size 432x288 with 1 Axes>"
      ]
     },
     "metadata": {},
     "output_type": "display_data"
    }
   ],
   "source": [
    "normal=[]\n",
    "for i in range(10000):\n",
    "    normal.append(np.random.normal(100, 0.001))\n",
    "\n",
    "sns.set()\n",
    "sns.distplot(normal, kde=False)"
   ]
  },
  {
   "cell_type": "markdown",
   "metadata": {
    "slideshow": {
     "slide_type": "slide"
    }
   },
   "source": [
    "### Distribución Normal Estandar"
   ]
  },
  {
   "cell_type": "code",
   "execution_count": 152,
   "metadata": {
    "slideshow": {
     "slide_type": "slide"
    }
   },
   "outputs": [
    {
     "data": {
      "text/plain": [
       "<matplotlib.axes._subplots.AxesSubplot at 0x1aac1e24ac8>"
      ]
     },
     "execution_count": 152,
     "metadata": {},
     "output_type": "execute_result"
    },
    {
     "data": {
      "image/png": "[encoded data removed]",
      "text/plain": [
       "<Figure size 432x288 with 1 Axes>"
      ]
     },
     "metadata": {},
     "output_type": "display_data"
    }
   ],
   "source": [
    "normal=[]\n",
    "for i in range(10000):\n",
    "    normal.append(np.random.randn())\n",
    "\n",
    "sns.set()\n",
    "sns.distplot(normal, kde=False)"
   ]
  },
  {
   "cell_type": "markdown",
   "metadata": {
    "slideshow": {
     "slide_type": "slide"
    }
   },
   "source": [
    "## Valor Esperado y Varianza"
   ]
  },
  {
   "cell_type": "markdown",
   "metadata": {
    "slideshow": {
     "slide_type": "slide"
    }
   },
   "source": [
    "El valor esperado para una variable discreta $X$ está definido como\n",
    "$$E[X] = \\sum_{x \\in X} x p(x)$$"
   ]
  },
  {
   "cell_type": "markdown",
   "metadata": {
    "slideshow": {
     "slide_type": "slide"
    }
   },
   "source": [
    "Mientras que para una variable continua $X$ está definido como :\n",
    "$$E[X]= \\int_X xp(x)dx$$ "
   ]
  },
  {
   "cell_type": "markdown",
   "metadata": {
    "slideshow": {
     "slide_type": "slide"
    }
   },
   "source": [
    "Y la varianza de $X$ está definida como el valor esperado de la distancia de cada valor de X al promedio $\\mu=E[X]$\n",
    "\n",
    "$$Var(X)=E [(X − μ)^2] = E[X^2]-E[X]^2$$\n"
   ]
  },
  {
   "cell_type": "markdown",
   "metadata": {
    "slideshow": {
     "slide_type": "slide"
    }
   },
   "source": [
    "Y la desviación estandar es simplemente: $std(X) = \\sqrt{Var(X)}$"
   ]
  }
 ],
 "metadata": {
  "celltoolbar": "Slideshow",
  "kernelspec": {
   "display_name": "Python 3",
   "language": "python",
   "name": "python3"
  },
  "language_info": {
   "codemirror_mode": {
    "name": "ipython",
    "version": 3
   },
   "file_extension": ".py",
   "mimetype": "text/x-python",
   "name": "python",
   "nbconvert_exporter": "python",
   "pygments_lexer": "ipython3",
   "version": "3.6.4"
  }
 },
 "nbformat": 4,
 "nbformat_minor": 2
}
