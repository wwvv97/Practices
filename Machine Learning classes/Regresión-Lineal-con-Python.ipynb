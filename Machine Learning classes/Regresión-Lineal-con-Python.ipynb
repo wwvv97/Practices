{
 "cells": [
  {
   "cell_type": "code",
   "execution_count": 4,
   "metadata": {
    "slideshow": {
     "slide_type": "slide"
    }
   },
   "outputs": [],
   "source": [
    "from sklearn import datasets \n",
    "import numpy as np\n",
    "import seaborn as sns\n",
    "import pandas as pd"
   ]
  },
  {
   "cell_type": "markdown",
   "metadata": {
    "slideshow": {
     "slide_type": "slide"
    }
   },
   "source": [
    "# Regresión Lineal"
   ]
  },
  {
   "cell_type": "markdown",
   "metadata": {
    "slideshow": {
     "slide_type": "slide"
    }
   },
   "source": [
    "Un modelo de regresión lineal resuelve el problema de predecir una variable continua dado un dataset de variables independientes. O bien estamos tratando de estimar la distribución:\n",
    "\n",
    "$$P(y|w, D)$$\n",
    "\n",
    "donde $y$ es la variable a predecir y $D$ son los datos y $w$ son los parametros de nuestro modelo."
   ]
  },
  {
   "cell_type": "markdown",
   "metadata": {
    "slideshow": {
     "slide_type": "slide"
    }
   },
   "source": [
    "Tipicamente los datos podemos modelarlos como puntos en plano (o en el espacio si son más de dos variables independientes). Vamos a ilustrar la teoría de regresiones lineales usando el dataset irirs:"
   ]
  },
  {
   "cell_type": "code",
   "execution_count": 5,
   "metadata": {
    "slideshow": {
     "slide_type": "slide"
    }
   },
   "outputs": [],
   "source": [
    "iris = datasets.load_iris()"
   ]
  },
  {
   "cell_type": "code",
   "execution_count": 6,
   "metadata": {
    "slideshow": {
     "slide_type": "slide"
    }
   },
   "outputs": [
    {
     "data": {
      "text/html": [
       "<div>\n",
       "<style scoped>\n",
       "    .dataframe tbody tr th:only-of-type {\n",
       "        vertical-align: middle;\n",
       "    }\n",
       "\n",
       "    .dataframe tbody tr th {\n",
       "        vertical-align: top;\n",
       "    }\n",
       "\n",
       "    .dataframe thead th {\n",
       "        text-align: right;\n",
       "    }\n",
       "</style>\n",
       "<table border=\"1\" class=\"dataframe\">\n",
       "  <thead>\n",
       "    <tr style=\"text-align: right;\">\n",
       "      <th></th>\n",
       "      <th>sepal length</th>\n",
       "      <th>sepal width</th>\n",
       "      <th>petal length</th>\n",
       "      <th>petal width</th>\n",
       "    </tr>\n",
       "  </thead>\n",
       "  <tbody>\n",
       "    <tr>\n",
       "      <th>0</th>\n",
       "      <td>5.1</td>\n",
       "      <td>3.5</td>\n",
       "      <td>1.4</td>\n",
       "      <td>0.2</td>\n",
       "    </tr>\n",
       "    <tr>\n",
       "      <th>1</th>\n",
       "      <td>4.9</td>\n",
       "      <td>3.0</td>\n",
       "      <td>1.4</td>\n",
       "      <td>0.2</td>\n",
       "    </tr>\n",
       "    <tr>\n",
       "      <th>2</th>\n",
       "      <td>4.7</td>\n",
       "      <td>3.2</td>\n",
       "      <td>1.3</td>\n",
       "      <td>0.2</td>\n",
       "    </tr>\n",
       "    <tr>\n",
       "      <th>3</th>\n",
       "      <td>4.6</td>\n",
       "      <td>3.1</td>\n",
       "      <td>1.5</td>\n",
       "      <td>0.2</td>\n",
       "    </tr>\n",
       "    <tr>\n",
       "      <th>4</th>\n",
       "      <td>5.0</td>\n",
       "      <td>3.6</td>\n",
       "      <td>1.4</td>\n",
       "      <td>0.2</td>\n",
       "    </tr>\n",
       "  </tbody>\n",
       "</table>\n",
       "</div>"
      ],
      "text/plain": [
       "   sepal length  sepal width  petal length  petal width\n",
       "0           5.1          3.5           1.4          0.2\n",
       "1           4.9          3.0           1.4          0.2\n",
       "2           4.7          3.2           1.3          0.2\n",
       "3           4.6          3.1           1.5          0.2\n",
       "4           5.0          3.6           1.4          0.2"
      ]
     },
     "execution_count": 6,
     "metadata": {},
     "output_type": "execute_result"
    }
   ],
   "source": [
    "names=[name[0:-5] for name in iris['feature_names']]\n",
    "\n",
    "iris_df = pd.DataFrame(iris['data'], columns=names)\n",
    "#iris_df = iris_df.join(pd.DataFrame(iris['target'], columns=['target']))\n",
    "\n",
    "iris_df.head()\n"
   ]
  },
  {
   "cell_type": "code",
   "execution_count": 7,
   "metadata": {
    "slideshow": {
     "slide_type": "slide"
    }
   },
   "outputs": [
    {
     "data": {
      "text/html": [
       "<div>\n",
       "<style scoped>\n",
       "    .dataframe tbody tr th:only-of-type {\n",
       "        vertical-align: middle;\n",
       "    }\n",
       "\n",
       "    .dataframe tbody tr th {\n",
       "        vertical-align: top;\n",
       "    }\n",
       "\n",
       "    .dataframe thead th {\n",
       "        text-align: right;\n",
       "    }\n",
       "</style>\n",
       "<table border=\"1\" class=\"dataframe\">\n",
       "  <thead>\n",
       "    <tr style=\"text-align: right;\">\n",
       "      <th></th>\n",
       "      <th>sepal length</th>\n",
       "      <th>sepal width</th>\n",
       "      <th>petal length</th>\n",
       "      <th>petal width</th>\n",
       "    </tr>\n",
       "  </thead>\n",
       "  <tbody>\n",
       "    <tr>\n",
       "      <th>0</th>\n",
       "      <td>5.1</td>\n",
       "      <td>3.5</td>\n",
       "      <td>1.4</td>\n",
       "      <td>0.2</td>\n",
       "    </tr>\n",
       "    <tr>\n",
       "      <th>1</th>\n",
       "      <td>4.9</td>\n",
       "      <td>3.0</td>\n",
       "      <td>1.4</td>\n",
       "      <td>0.2</td>\n",
       "    </tr>\n",
       "    <tr>\n",
       "      <th>2</th>\n",
       "      <td>4.7</td>\n",
       "      <td>3.2</td>\n",
       "      <td>1.3</td>\n",
       "      <td>0.2</td>\n",
       "    </tr>\n",
       "    <tr>\n",
       "      <th>3</th>\n",
       "      <td>4.6</td>\n",
       "      <td>3.1</td>\n",
       "      <td>1.5</td>\n",
       "      <td>0.2</td>\n",
       "    </tr>\n",
       "    <tr>\n",
       "      <th>4</th>\n",
       "      <td>5.0</td>\n",
       "      <td>3.6</td>\n",
       "      <td>1.4</td>\n",
       "      <td>0.2</td>\n",
       "    </tr>\n",
       "  </tbody>\n",
       "</table>\n",
       "</div>"
      ],
      "text/plain": [
       "   sepal length  sepal width  petal length  petal width\n",
       "0           5.1          3.5           1.4          0.2\n",
       "1           4.9          3.0           1.4          0.2\n",
       "2           4.7          3.2           1.3          0.2\n",
       "3           4.6          3.1           1.5          0.2\n",
       "4           5.0          3.6           1.4          0.2"
      ]
     },
     "execution_count": 7,
     "metadata": {},
     "output_type": "execute_result"
    }
   ],
   "source": [
    "iris_df.head()"
   ]
  },
  {
   "cell_type": "markdown",
   "metadata": {
    "slideshow": {
     "slide_type": "slide"
    }
   },
   "source": [
    "Vamos a predecir la variable 'sepal length' usando las otras tres variables como nuestras variables independientes."
   ]
  },
  {
   "cell_type": "code",
   "execution_count": 8,
   "metadata": {
    "slideshow": {
     "slide_type": "slide"
    }
   },
   "outputs": [
    {
     "data": {
      "text/plain": [
       "<matplotlib.axes._subplots.AxesSubplot at 0x22e84480668>"
      ]
     },
     "execution_count": 8,
     "metadata": {},
     "output_type": "execute_result"
    },
    {
     "data": {
      "image/png": "[encoded data removed]",
      "text/plain": [
       "<Figure size 432x288 with 1 Axes>"
      ]
     },
     "metadata": {},
     "output_type": "display_data"
    }
   ],
   "source": [
    "sns.set()\n",
    "sns.scatterplot(iris_df['sepal length'], iris_df['petal length'] )"
   ]
  },
  {
   "cell_type": "markdown",
   "metadata": {
    "slideshow": {
     "slide_type": "slide"
    }
   },
   "source": [
    "En este caso lo que nos interesaría descrubir es una relación lineal entre sepal length y petal length. Vemos que es posible que esta exista.\n",
    "\n",
    "Y quisieramos escribirla de la siguiente manera. Si llamamos $y$ a la variable petal length y $x$ a la variable sepal length, lo que buscamos es una dos números $m$ y $c$ tales que para cada observación $x_i$ en el dataset el valor: \n",
    "\n",
    "$$\\hat{y}_i=mx_i+c$$\n",
    "\n",
    "sea lo más cercano posible a $y_i$. En este caso $\\hat{y}$ es nuestra predicción basada en los datos ($x_i$) y en los parametros $m, c$, mientras que $y_i$ es el valor real estimado."
   ]
  },
  {
   "cell_type": "code",
   "execution_count": 9,
   "metadata": {
    "slideshow": {
     "slide_type": "slide"
    }
   },
   "outputs": [
    {
     "data": {
      "text/plain": [
       "<matplotlib.axes._subplots.AxesSubplot at 0x22e845b4e48>"
      ]
     },
     "execution_count": 9,
     "metadata": {},
     "output_type": "execute_result"
    },
    {
     "data": {
      "image/png": "[encoded data removed]",
      "text/plain": [
       "<Figure size 432x288 with 1 Axes>"
      ]
     },
     "metadata": {},
     "output_type": "display_data"
    }
   ],
   "source": [
    "sns.set()\n",
    "sns.regplot(x=iris_df['sepal length'], y=iris_df['petal length'] , \n",
    "            data=iris_df,ci=50, fit_reg=True)\n",
    "\n",
    "#sns.regplot?"
   ]
  },
  {
   "cell_type": "markdown",
   "metadata": {
    "slideshow": {
     "slide_type": "slide"
    }
   },
   "source": [
    "## ¿Cómo sabemos que tan bien funciona el modelo?\n",
    "\n",
    "El objetivo último de machine learning es minimizar el error de predicción. Para eso primero tenemos que poder calcular una métrica de error para todo el modelo."
   ]
  },
  {
   "cell_type": "markdown",
   "metadata": {
    "slideshow": {
     "slide_type": "slide"
    }
   },
   "source": [
    "Podemos calcular un error para cada punto y cada predicción de tres maneras: \n",
    "\n",
    "1. Dieferencia: $$(\\hat{y_i}-y_i)$$\n",
    "\n",
    "2. Diferencia cuadrada: $$(\\hat{y_i}-y_i)^2$$\n",
    "\n",
    "3. Diferencia Absoluta: $$abs(\\hat{y_i}-y_i)$$\n",
    "    "
   ]
  },
  {
   "cell_type": "markdown",
   "metadata": {
    "slideshow": {
     "slide_type": "slide"
    }
   },
   "source": [
    "Las tres diferencias tienen sus ventajas y desventajas. Por ejemplo: la diferencia simple nos puede decir si el sesgo de nuestra predicción está por encima o por debajo del valor real, sin embargo los errores pueden cancelarse y al entrenar el modelo podemos toparnos con que el error total para todos los puntos es cero pero que las distancias absolutas a los puntos son grandes, tanto positivas como negativas."
   ]
  },
  {
   "cell_type": "markdown",
   "metadata": {
    "slideshow": {
     "slide_type": "slide"
    }
   },
   "source": [
    "La diferencia cuadrada y absoluta son las más usadas por los modelos como funciones perdida o loss functions."
   ]
  },
  {
   "cell_type": "markdown",
   "metadata": {
    "slideshow": {
     "slide_type": "slide"
    }
   },
   "source": [
    "### Suma de errores (Loss Functions)\n",
    "\n",
    "Luego de calcular el error por cada uno de los puntos, podemos tener una medida del error de todo el modelo, ya sea sumando los errores o tomando los promedios (de las $n$ oservaciones en el dataset):\n",
    "\n",
    "1. Suma de errores cuadrados o residuales: $$RSS = \\sum_i (\\hat{y_i}-y_i)^2$$\n",
    "2. Promedio de errores cuadrados : $$MSE = 1/n \\sum_i (\\hat{y_i}-y_i)^2$$\n"
   ]
  },
  {
   "cell_type": "markdown",
   "metadata": {
    "slideshow": {
     "slide_type": "slide"
    }
   },
   "source": [
    "3. Suma de errores absolutos: $$SAE = \\sum_i abs(\\hat{y_i}-y_i)$$\n",
    "4. Promedio de errores cuadrados : $$MAE = 1/n \\sum_i abs(\\hat{y_i}-y_i)$$"
   ]
  },
  {
   "cell_type": "code",
   "execution_count": 10,
   "metadata": {
    "slideshow": {
     "slide_type": "slide"
    }
   },
   "outputs": [
    {
     "data": {
      "text/plain": [
       "2.5"
      ]
     },
     "execution_count": 10,
     "metadata": {},
     "output_type": "execute_result"
    }
   ],
   "source": [
    "def rss(y, y_i):\n",
    "    return ((y-y_i)**2).sum()\n",
    "\n",
    "#Escribamos el código para las otras métricas.\n",
    "Z = np.array([1, 2])\n",
    "Z_1 =np.array([-1, 1])\n",
    "\n",
    "rss(Z, Z_1)\n",
    "\n",
    "def rss_int(y, y_i):\n",
    "    return (y-y_i)**2\n",
    "\n",
    "rss_int(2, 1)\n",
    "\n",
    "def mse(y, y_i):\n",
    "    return ((y-y_i)**2).sum()/len(y)\n",
    "\n",
    "mse(Z, Z_1)"
   ]
  },
  {
   "cell_type": "markdown",
   "metadata": {
    "slideshow": {
     "slide_type": "slide"
    }
   },
   "source": [
    "## ¿Como programar el algorítmo de regresión?"
   ]
  },
  {
   "cell_type": "markdown",
   "metadata": {
    "slideshow": {
     "slide_type": "slide"
    }
   },
   "source": [
    "Para entrenar el modelo vamos a usar el algorítmo ya programado por los creadores de Scikit-learn. "
   ]
  },
  {
   "cell_type": "code",
   "execution_count": 11,
   "metadata": {
    "slideshow": {
     "slide_type": "fragment"
    }
   },
   "outputs": [],
   "source": [
    "from sklearn.linear_model import LinearRegression"
   ]
  },
  {
   "cell_type": "markdown",
   "metadata": {},
   "source": [
    "El modelo en scikit-learn requiere que le pasemos la variable objetivo ($y$) como un array de 1 dimensión; y también espera que los ejemplos ($\\mathbf{X}$) vengan en forma de un array de dos dimensiones (aunque solo haya una columna o característica)."
   ]
  },
  {
   "cell_type": "code",
   "execution_count": 83,
   "metadata": {
    "slideshow": {
     "slide_type": "slide"
    }
   },
   "outputs": [
    {
     "data": {
      "text/plain": [
       "((150, 1), (150, 1))"
      ]
     },
     "execution_count": 83,
     "metadata": {},
     "output_type": "execute_result"
    }
   ],
   "source": [
    "# Creamos el dataset para entrenar el modelo\n",
    "X=np.array(iris_df['sepal length']).reshape(-1, 1)\n",
    "y=np.array(iris_df['petal length']).reshape(-1, 1)\n",
    "\n",
    "X.shape, y.shape\n",
    "\n"
   ]
  },
  {
   "cell_type": "code",
   "execution_count": 13,
   "metadata": {
    "slideshow": {
     "slide_type": "slide"
    }
   },
   "outputs": [
    {
     "data": {
      "text/plain": [
       "(array([[1.85750967]]), array([-7.09538148]))"
      ]
     },
     "execution_count": 13,
     "metadata": {},
     "output_type": "execute_result"
    }
   ],
   "source": [
    "#Creamos una instancia del modelo: \n",
    "lr = LinearRegression()\n",
    "\n",
    "#Este paso entrema el modelo\n",
    "model = lr.fit(X, y)\n",
    "\n",
    "#Podemos accesar a los coeficientes y al intercepto del modelo\n",
    "m, c = model.coef_ , model.intercept_\n",
    "\n",
    "m, c"
   ]
  },
  {
   "cell_type": "code",
   "execution_count": 14,
   "metadata": {
    "slideshow": {
     "slide_type": "slide"
    }
   },
   "outputs": [],
   "source": [
    "m_array = np.linspace(1.56, 2.15, num=20)\n",
    "c_array = np.linspace(-6.5, -7.5, num=20)\n",
    "\n",
    "\n",
    "errors = []\n",
    "for i in m_array:\n",
    "    y_i = X*i+c\n",
    "    errors.append(rss(y, y_i))\n",
    "        \n",
    "error = np.array(errors)"
   ]
  },
  {
   "cell_type": "code",
   "execution_count": 15,
   "metadata": {
    "slideshow": {
     "slide_type": "slide"
    }
   },
   "outputs": [
    {
     "ename": "SyntaxError",
     "evalue": "EOL while scanning string literal (<ipython-input-15-4df1a8a69899>, line 3)",
     "output_type": "error",
     "traceback": [
      "\u001b[1;36m  File \u001b[1;32m\"<ipython-input-15-4df1a8a69899>\"\u001b[1;36m, line \u001b[1;32m3\u001b[0m\n\u001b[1;33m    data = errors_df).set_title('Error cambiando a medida\u001b[0m\n\u001b[1;37m                                                          ^\u001b[0m\n\u001b[1;31mSyntaxError\u001b[0m\u001b[1;31m:\u001b[0m EOL while scanning string literal\n"
     ]
    }
   ],
   "source": [
    "errors_df = pd.DataFrame({\"Pendiente (m)\":m_array, \"Error\":error})\n",
    "sns.lineplot(x=\"Pendiente (m)\", y=\"Error\", \n",
    "             data = errors_df).set_title('Error cambiando a medida \n",
    "                                         cambia la pendiente del modelo')\n"
   ]
  },
  {
   "cell_type": "code",
   "execution_count": 16,
   "metadata": {
    "slideshow": {
     "slide_type": "slide"
    }
   },
   "outputs": [
    {
     "name": "stdout",
     "output_type": "stream",
     "text": [
      "Text(0.5,1,'Error cambiando a medida cambia')\n"
     ]
    },
    {
     "data": {
      "image/png": "[encoded data removed]",
      "text/plain": [
       "<Figure size 432x288 with 1 Axes>"
      ]
     },
     "metadata": {},
     "output_type": "display_data"
    }
   ],
   "source": [
    "errors_df = pd.DataFrame({\"Intercepto (c)\":c_array, \"Error\":error})\n",
    "print(sns.lineplot(x=\"Intercepto (c)\", y=\"Error\"\n",
    "                   , data = errors_df).set_title('Error cambiando a medida cambia'))\n"
   ]
  },
  {
   "cell_type": "markdown",
   "metadata": {
    "slideshow": {
     "slide_type": "slide"
    }
   },
   "source": [
    "# Generalización a mayores dimensiones."
   ]
  },
  {
   "cell_type": "markdown",
   "metadata": {
    "slideshow": {
     "slide_type": "slide"
    }
   },
   "source": [
    "Podemos generalizar la ecuación de regresión a mayores dimensiones. Si $\\mathbf{X}$ es el vector de características y $\\mathbf{\\theta}$ es el vector de parametros. Entonces nuestra ecuación de regresión se convierte en \n",
    "\n",
    "$$y = \\mathbf{\\theta}\\mathbf{X}$$"
   ]
  },
  {
   "cell_type": "markdown",
   "metadata": {
    "slideshow": {
     "slide_type": "slide"
    }
   },
   "source": [
    "# ¿Por que nos interesaría usar más variables?"
   ]
  },
  {
   "cell_type": "code",
   "execution_count": 55,
   "metadata": {
    "slideshow": {
     "slide_type": "slide"
    }
   },
   "outputs": [],
   "source": [
    "X_mat = pd.DataFrame(iris['data'], columns=names).drop('petal length', axis=1)\n"
   ]
  },
  {
   "cell_type": "code",
   "execution_count": 79,
   "metadata": {
    "slideshow": {
     "slide_type": "slide"
    }
   },
   "outputs": [
    {
     "data": {
      "text/plain": [
       "(150, 3)"
      ]
     },
     "execution_count": 79,
     "metadata": {},
     "output_type": "execute_result"
    }
   ],
   "source": [
    "X_mat.shape\n"
   ]
  },
  {
   "cell_type": "code",
   "execution_count": 81,
   "metadata": {
    "slideshow": {
     "slide_type": "slide"
    }
   },
   "outputs": [
    {
     "data": {
      "text/plain": [
       "(array([[ 0.7303629 , -0.65139445,  1.44571962]]), array([-0.25266445]))"
      ]
     },
     "execution_count": 81,
     "metadata": {},
     "output_type": "execute_result"
    }
   ],
   "source": [
    "lr = LinearRegression()\n",
    "\n",
    "#Este paso entrema el modelo\n",
    "model_multi = lr.fit(X_mat, y)\n",
    "\n",
    "#Podemos accesar a los coeficientes y al intercepto del modelo\n",
    "m, c = model_multi.coef_ , model_multi.intercept_\n",
    "B = model_multi.coef_ \n",
    "w_0= model_multi.intercept_\n",
    "B, w_0\n"
   ]
  },
  {
   "cell_type": "code",
   "execution_count": 84,
   "metadata": {
    "slideshow": {
     "slide_type": "slide"
    }
   },
   "outputs": [
    {
     "data": {
      "text/plain": [
       "0.7599553107783261"
      ]
     },
     "execution_count": 84,
     "metadata": {},
     "output_type": "execute_result"
    }
   ],
   "source": [
    "model.score(X,y)\n"
   ]
  },
  {
   "cell_type": "code",
   "execution_count": 62,
   "metadata": {
    "slideshow": {
     "slide_type": "slide"
    }
   },
   "outputs": [
    {
     "data": {
      "text/plain": [
       "0.968150119089107"
      ]
     },
     "execution_count": 62,
     "metadata": {},
     "output_type": "execute_result"
    }
   ],
   "source": [
    "model_multi.score(X_mat, y)\n"
   ]
  },
  {
   "cell_type": "markdown",
   "metadata": {
    "slideshow": {
     "slide_type": "slide"
    }
   },
   "source": [
    "Arriba estamos usando el Coeficiente de Determinacion para estimar que tan bien funciona el modelo. Lo que nos dice el Coeficiente, $R^2$, es cuanta variabilidad de la variable independiente es debido a la variabilidad de las variables independientes.\n",
    "\n",
    "$$R^2 = (1 - u/v)$$\n",
    "\n",
    ", donde u es la suma cuadrada de residuos \n",
    "\n",
    "$$u = \\sum (\\hat{y}-y)^2$$\n",
    "\n",
    "y v es la suma total de desviaciones cuadradas: \n",
    "  \n",
    "$$v = \\sum (\\hat{y}-\\bar{y})^2 $$\n",
    "\n",
    "Un valor de 1 es muy bueno mientras que valores cercanos a 0 dice que no el modelo no captura la relación entre $x$ y $y$."
   ]
  },
  {
   "cell_type": "markdown",
   "metadata": {
    "slideshow": {
     "slide_type": "slide"
    }
   },
   "source": [
    "# Error de generalización"
   ]
  },
  {
   "cell_type": "markdown",
   "metadata": {
    "slideshow": {
     "slide_type": "slide"
    }
   },
   "source": [
    "Ahora que sabemos modelar una relación lineal entre las variables dependientes e independiente podemos calcular una predicción sobre datos que no hayamos visto. \n",
    "\n",
    "Y podemos calcular el error en la predicción con valores no vistos. Para ello podemos partir el dataset en dos: una parte para entrenar el modelo o training set y otra parte para validar que el modelo entrenado puede hacer predicciones sobre datos nunca vistos."
   ]
  },
  {
   "cell_type": "markdown",
   "metadata": {
    "slideshow": {
     "slide_type": "slide"
    }
   },
   "source": [
    "$$MSE = 1/n\\sum (y_{test} - y_{prediccion})^2$$"
   ]
  },
  {
   "cell_type": "code",
   "execution_count": 86,
   "metadata": {
    "slideshow": {
     "slide_type": "slide"
    }
   },
   "outputs": [],
   "source": [
    "X=np.array(pd.DataFrame(iris['data'], columns=names).drop('petal length', axis=1))\n",
    "y=np.array(iris_df['petal length']).reshape(-1, 1)\n",
    "\n",
    "\n"
   ]
  },
  {
   "cell_type": "code",
   "execution_count": 63,
   "metadata": {
    "slideshow": {
     "slide_type": "slide"
    }
   },
   "outputs": [],
   "source": [
    "from sklearn.model_selection import train_test_split\n"
   ]
  },
  {
   "cell_type": "code",
   "execution_count": 98,
   "metadata": {
    "slideshow": {
     "slide_type": "slide"
    }
   },
   "outputs": [],
   "source": [
    "X_train, X_test, y_train, y_test = train_test_split(X, y, test_size=0.4, random_state=0)\n"
   ]
  },
  {
   "cell_type": "code",
   "execution_count": 90,
   "metadata": {
    "slideshow": {
     "slide_type": "slide"
    }
   },
   "outputs": [
    {
     "data": {
      "text/plain": [
       "((120, 3), (30, 3))"
      ]
     },
     "execution_count": 90,
     "metadata": {},
     "output_type": "execute_result"
    }
   ],
   "source": [
    "X_train.shape, X_test.shape\n"
   ]
  },
  {
   "cell_type": "code",
   "execution_count": 100,
   "metadata": {
    "slideshow": {
     "slide_type": "slide"
    }
   },
   "outputs": [
    {
     "data": {
      "text/plain": [
       "(array([[ 0.74367265, -0.55340039,  1.47199359]]), array([-0.67449867]))"
      ]
     },
     "execution_count": 100,
     "metadata": {},
     "output_type": "execute_result"
    }
   ],
   "source": [
    "lr = LinearRegression()\n",
    "\n",
    "#Este paso entrema el modelo\n",
    "model_tr = lr.fit(X_train, y_train)\n",
    "\n",
    "#Podemos accesar a los coeficientes y al intercepto del modelo\n",
    "m, c = model_tr.coef_ , model_tr.intercept_\n",
    "\n",
    "m, c\n",
    "\n",
    "#X_train.shape[0]/X.shape[0]\n"
   ]
  },
  {
   "cell_type": "code",
   "execution_count": 101,
   "metadata": {
    "slideshow": {
     "slide_type": "slide"
    }
   },
   "outputs": [
    {
     "data": {
      "text/plain": [
       "0.9475542374063679"
      ]
     },
     "execution_count": 101,
     "metadata": {},
     "output_type": "execute_result"
    }
   ],
   "source": [
    "model_tr.score(X_test, y_test)\n"
   ]
  },
  {
   "cell_type": "code",
   "execution_count": 102,
   "metadata": {
    "slideshow": {
     "slide_type": "slide"
    }
   },
   "outputs": [],
   "source": [
    "from sklearn.metrics import mean_squared_error, r2_score\n"
   ]
  },
  {
   "cell_type": "code",
   "execution_count": 104,
   "metadata": {
    "slideshow": {
     "slide_type": "slide"
    }
   },
   "outputs": [
    {
     "name": "stdout",
     "output_type": "stream",
     "text": [
      "El error promedio cuadrado es: 0.13\n",
      "De nuevo el score del modelo en el test set es: 0.95 (1 es una predicción perfecta)\n"
     ]
    }
   ],
   "source": [
    "y_pred = model_tr.predict(X_test)\n",
    "\n",
    "print('El error promedio cuadrado es: {:0.2f}'.format( mean_squared_error(y_test, y_pred)))\n",
    "\n",
    "print('De nuevo el score del modelo en el test set es: {:0.2f} (1 es una predicción perfecta)'.format(r2_score(y_test, y_pred)))\n"
   ]
  },
  {
   "cell_type": "markdown",
   "metadata": {
    "slideshow": {
     "slide_type": "slide"
    }
   },
   "source": [
    "# Solución Teórica"
   ]
  },
  {
   "cell_type": "markdown",
   "metadata": {
    "slideshow": {
     "slide_type": "slide"
    }
   },
   "source": [
    "Ahora que sabemos que añadir más variables nos puede servir por lo menos a explicar mejor cambios en la variable a predecir, veamos cuales son las soluciones del problema de regresión."
   ]
  },
  {
   "cell_type": "markdown",
   "metadata": {
    "slideshow": {
     "slide_type": "slide"
    }
   },
   "source": [
    "La solución para $\\mathbf{\\theta}$ está dada por $$\\theta^* = (X^T X)^{-1} X^T y$$"
   ]
  },
  {
   "cell_type": "markdown",
   "metadata": {
    "slideshow": {
     "slide_type": "slide"
    }
   },
   "source": [
    "Si ahora el modelo es \n",
    "\n",
    "$$y = \\mathbf{\\theta}\\mathbf{X} + \\mathbf{\\varepsilon}$$\n",
    "\n",
    "donde  $\\mathbf{\\varepsilon}$ es un vector de errores normalmente distribuido."
   ]
  },
  {
   "cell_type": "markdown",
   "metadata": {
    "slideshow": {
     "slide_type": "slide"
    }
   },
   "source": [
    "$$\\hat{\\theta} = (X^T X)^{-1} X^T y + (X^T X)^{-1} X^T \\varepsilon$$\n",
    "\n",
    "$$\\hat{\\theta} = \\theta^* + (X^T X)^{-1} X^T \\varepsilon$$\n",
    "\n",
    "Y entonces el parámetro estimado es también normalmente distribuido."
   ]
  },
  {
   "cell_type": "markdown",
   "metadata": {
    "slideshow": {
     "slide_type": "slide"
    }
   },
   "source": [
    "# Bonus: Solución estilo Inferencia Estadística de la Regresión\n",
    "\n",
    "Si son amantes de la inferencia estadística y de estudiar como se comportan los parametros del modelo una vez entrenado, pueden usar la librería statsmodels que da resultados más tradicionales sobre el modelo de regresión."
   ]
  },
  {
   "cell_type": "code",
   "execution_count": 41,
   "metadata": {
    "slideshow": {
     "slide_type": "slide"
    }
   },
   "outputs": [
    {
     "name": "stdout",
     "output_type": "stream",
     "text": [
      "                                 OLS Regression Results                                \n",
      "=======================================================================================\n",
      "Dep. Variable:                      y   R-squared (uncentered):                   0.994\n",
      "Model:                            OLS   Adj. R-squared (uncentered):              0.994\n",
      "Method:                 Least Squares   F-statistic:                              8426.\n",
      "Date:                Tue, 01 Oct 2019   Prob (F-statistic):                   3.14e-164\n",
      "Time:                        15:32:08   Log-Likelihood:                         -39.808\n",
      "No. Observations:                 150   AIC:                                      85.62\n",
      "Df Residuals:                     147   BIC:                                      94.65\n",
      "Df Model:                           3                                                  \n",
      "Covariance Type:            nonrobust                                                  \n",
      "================================================================================\n",
      "                   coef    std err          t      P>|t|      [0.025      0.975]\n",
      "--------------------------------------------------------------------------------\n",
      "sepal length     0.6942      0.043     16.205      0.000       0.610       0.779\n",
      "sepal width     -0.6729      0.061    -10.969      0.000      -0.794      -0.552\n",
      "petal width      1.4680      0.063     23.247      0.000       1.343       1.593\n",
      "==============================================================================\n",
      "Omnibus:                        2.614   Durbin-Watson:                   1.784\n",
      "Prob(Omnibus):                  0.271   Jarque-Bera (JB):                2.448\n",
      "Skew:                           0.105   Prob(JB):                        0.294\n",
      "Kurtosis:                       3.590   Cond. No.                         24.0\n",
      "==============================================================================\n",
      "\n",
      "Warnings:\n",
      "[1] Standard Errors assume that the covariance matrix of the errors is correctly specified.\n"
     ]
    }
   ],
   "source": [
    "import statsmodels.api as sm\n",
    "\n",
    "mod = sm.OLS(y, X_mat)\n",
    "\n",
    "res = mod.fit()\n",
    "\n",
    "print(res.summary())"
   ]
  }
 ],
 "metadata": {
  "celltoolbar": "Slideshow",
  "kernelspec": {
   "display_name": "Python 3",
   "language": "python",
   "name": "python3"
  },
  "language_info": {
   "codemirror_mode": {
    "name": "ipython",
    "version": 3
   },
   "file_extension": ".py",
   "mimetype": "text/x-python",
   "name": "python",
   "nbconvert_exporter": "python",
   "pygments_lexer": "ipython3",
   "version": "3.6.4"
  }
 },
 "nbformat": 4,
 "nbformat_minor": 2
}
