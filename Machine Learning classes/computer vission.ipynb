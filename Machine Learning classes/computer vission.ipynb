{
 "cells": [
  {
   "cell_type": "code",
   "execution_count": 1,
   "metadata": {},
   "outputs": [],
   "source": [
    "import pandas as pd\n",
    "from PIL import Image\n",
    "import PIL.Image\n",
    "import pyautogui\n",
    "from pytesseract import image_to_string\n",
    "import pytesseract\n",
    "import time\n",
    "import cv2\n",
    "pytesseract.pytesseract.tesseract_cmd = '/usr/local/bin/tesseract'\n",
    "import matplotlib.pyplot as plt\n",
    "from itertools import zip_longest \n",
    "import numpy as np\n",
    "import seaborn as sns"
   ]
  },
  {
   "cell_type": "code",
   "execution_count": 2,
   "metadata": {},
   "outputs": [],
   "source": [
    "im2 = pyautogui.screenshot()\n",
    "crop_rectangle = (1400, 307, 3360-910, 1900)\n",
    "cropped_im = im2.crop(crop_rectangle)\n",
    "yellow = (900, 0, 920, 1595)\n",
    "gray = (1030, 0, 1050, 1490)\n",
    "yellow_bar = cropped_im.crop(yellow)\n",
    "gray_bar = cropped_im.crop(gray)\n",
    "alfa = np.asarray(gray_bar)\n",
    "gray_ser = []"
   ]
  },
  {
   "cell_type": "code",
   "execution_count": 4,
   "metadata": {},
   "outputs": [],
   "source": [
    "data = []"
   ]
  },
  {
   "cell_type": "code",
   "execution_count": 8,
   "metadata": {},
   "outputs": [],
   "source": [
    "txt = pytesseract.image_to_string(im2.convert(\"RGB\"), lang='eng')\n",
    "data.append({'string': txt, 'timestamp': time.time()})"
   ]
  },
  {
   "cell_type": "code",
   "execution_count": 14,
   "metadata": {},
   "outputs": [
    {
     "name": "stdout",
     "output_type": "stream",
     "text": [
      "@ Chrome Archivo Editar Ver Historial\n",
      "\n",
      "~ we\n",
      "— Class 1/ x & computer vission\n",
      "\n",
      "Favoritos Personas Ventana Ayuda\n",
      "\n",
      "COreHe@e\n",
      "\n",
      "& Sm 1%%) & mMar06:40 Q @O =\n",
      "\n",
      "x &) id scraper - Jupyt’ X & web_scraper -Juy xX & My Drive - Google x J Selenium - Googl« X J Pandas Clase1-! X G descargar tesserae xX <® Tesseract OCRdo x +\n",
      "\n",
      "Cc ©® localhost:8888/notebooks/Class%201/computer%20vission.ipynb\n",
      "\n",
      "CS ju pyter computer vission Last Checkpoint: hace unos segundos (unsaved changes)\n",
      "\n",
      "File Edit\n",
      "\n",
      "B + * © BH ® % HRur HC P= Code\n",
      "\n",
      "In [1]:\n",
      "\n",
      "import pandas as pd\n",
      "\n",
      "from PIL import Image\n",
      "\n",
      "import PIL.Image\n",
      "\n",
      "import pyautogui\n",
      "\n",
      "from pytesseract import image_to_string\n",
      "import pytesseract\n",
      "\n",
      "import time\n",
      "\n",
      "import cv2\n",
      "\n",
      "pytesseract.pytesseract.tesseract_cmd = '/usr/local/bin/tesseract'\n",
      "\n",
      "import matplotlib.pyplot as plt\n",
      "from itertools import zip longest\n",
      "import numpy as np\n",
      "\n",
      "import seaborn as sns\n",
      "\n",
      "View Insert Cell Kernel Widgets Help\n",
      "\n",
      "<>\n",
      "\n",
      "Trusted\n",
      "\n",
      "® Logout\n",
      "\n",
      "go Python 3 O\n",
      "\n",
      " \n",
      "\n",
      "In [\n",
      "\n",
      "im2 = pyautogui.screenshot()\n",
      "\n",
      "crop rectangle = (1400, 307, 3360-910,\n",
      "cropped_im = im2.crop(crop_rectangle)\n",
      "yellow = (900, 0, 920, 1595)\n",
      "\n",
      "gray = (1030, 0, 1050, 1490)\n",
      "yellow_bar = cropped_im.crop(yellow)\n",
      "gray_bar = cropped_im.crop(gray)\n",
      "\n",
      "alfa = np.asarray(gray_bar)\n",
      "\n",
      "gray_ser = []\n",
      "\n",
      "1900)\n",
      "\n",
      " \n",
      "\n",
      " \n",
      "\n",
      "xy)/Censn @\n"
     ]
    }
   ],
   "source": [
    "print(data[1]['string'])"
   ]
  }
 ],
 "metadata": {
  "kernelspec": {
   "display_name": "Python 3",
   "language": "python",
   "name": "python3"
  },
  "language_info": {
   "codemirror_mode": {
    "name": "ipython",
    "version": 3
   },
   "file_extension": ".py",
   "mimetype": "text/x-python",
   "name": "python",
   "nbconvert_exporter": "python",
   "pygments_lexer": "ipython3",
   "version": "3.7.4"
  }
 },
 "nbformat": 4,
 "nbformat_minor": 2
}
