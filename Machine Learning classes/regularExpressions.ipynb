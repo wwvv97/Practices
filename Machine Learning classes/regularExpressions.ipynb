{
 "cells": [
  {
   "cell_type": "code",
   "execution_count": 2,
   "metadata": {},
   "outputs": [
    {
     "name": "stdout",
     "output_type": "stream",
     "text": [
      "Match\n"
     ]
    }
   ],
   "source": [
    "import re\n",
    "pattern = r'spam'\n",
    "\n",
    "if re.match(pattern, 'spamspamspam'):\n",
    "    print('Match')\n",
    "else:\n",
    "    print('No Match')"
   ]
  },
  {
   "cell_type": "markdown",
   "metadata": {},
   "source": [
    "### Methods básicos: Match, search, findall, sub"
   ]
  },
  {
   "cell_type": "code",
   "execution_count": 4,
   "metadata": {},
   "outputs": [
    {
     "name": "stdout",
     "output_type": "stream",
     "text": [
      "Match No Match\n",
      "search Match\n",
      "['spam', 'spam']\n"
     ]
    }
   ],
   "source": [
    "#re.search (findas a match of a pattern anywhere in the string) \n",
    "#re.findall (returns a sublist of substrings that matches the pattern)\n",
    "pattern = r'spam'\n",
    "\n",
    "if re.match(pattern, 'eggspamsausagespam'):\n",
    "    print('Match match')\n",
    "else:\n",
    "    print('Match No Match')\n",
    "\n",
    "if re.search(pattern,'eggspamsausagespam'):\n",
    "    print('search Match')\n",
    "else:\n",
    "    print('search No Match')\n",
    "\n",
    "print(re.findall(pattern, 'eggspamsausagespam'))"
   ]
  },
  {
   "cell_type": "code",
   "execution_count": 6,
   "metadata": {},
   "outputs": [
    {
     "name": "stdout",
     "output_type": "stream",
     "text": [
      "spam\n",
      "3\n",
      "7\n",
      "(3, 7)\n"
     ]
    }
   ],
   "source": [
    "#regex: regular expressions\n",
    "#group returns the string matched\n",
    "#start returns the starting position of the first match\n",
    "#end returns the ending position of the first match\n",
    "#span returns the starting and ending pisition of the first match (as a tuple)\n",
    "\n",
    "pattern = r'spam'\n",
    "\n",
    "match = re.search(pattern, 'eggspamsausage')\n",
    "\n",
    "if match:\n",
    "    print(match.group())\n",
    "    print(match.start())\n",
    "    print(match.end())\n",
    "    print(match.span())\n",
    "\n"
   ]
  },
  {
   "cell_type": "code",
   "execution_count": 9,
   "metadata": {},
   "outputs": [
    {
     "name": "stdout",
     "output_type": "stream",
     "text": [
      "My name is Amy. Hi Amy\n"
     ]
    }
   ],
   "source": [
    "#re.sub(qué buscar, sustituto, texto, count=x (opcional) )\n",
    "str = 'My name is John. Hi John'\n",
    "pattern = r'John'\n",
    "newstr = re.sub(pattern, 'Amy', str)\n",
    "print(newstr)"
   ]
  },
  {
   "cell_type": "markdown",
   "metadata": {},
   "source": [
    "### Metacharacters (., ^, $)"
   ]
  },
  {
   "cell_type": "markdown",
   "metadata": {},
   "source": [
    "Como: ., ^, $, etc.\n",
    "\n",
    "Definen expresiones regulares. Pueden representar conceptos como \"una o más repeticiones de una vocal seguida de una letra W\"\n",
    "\n",
    "Quick explanation:\n",
    "\n",
    "    Para definir un string como text puro:\n",
    "    \n",
    "        str = r'I am \\r\\a\\w!'\n",
    "        \n",
    "        \n",
    "        \n",
    "        Ponemos un backslash (\\) porque r, a, w se pueden confundir con metacharacters\n",
    "        \n",
    "        Esto se hace porque r, a, w son metacharacters en un inicio. \n",
    "        \n",
    "        Pero al definir el str, queremos que estos sean letras, no metacharacters. \n",
    "        \n",
    "        Para evitar esta confusión, ponemos un backslash (\\) para especificar que son LETRAS, NO METACHARACTERS\n",
    "        \n",
    "        Pero, el backslash (\\) también es un caracter especial para Python (significa \"escape\" en un string). \n",
    "        Es por eso que ponemos una letra r antes del string, para definirlo como texto puro\n",
    "    "
   ]
  },
  {
   "cell_type": "code",
   "execution_count": 13,
   "metadata": {},
   "outputs": [
    {
     "name": "stdout",
     "output_type": "stream",
     "text": [
      "Match 1\n",
      "Match 2\n"
     ]
    }
   ],
   "source": [
    "pattern = r'gr.y'\n",
    "\n",
    "if re.match(pattern, 'grey'):\n",
    "    print('Match 1')\n",
    "\n",
    "if re.match(pattern, 'gray'):\n",
    "    print('Match 2')\n",
    "\n",
    "if re.match(pattern, 'blue'):\n",
    "    print('Match 3')\n",
    "    \n",
    "#. (punto) es un metacharacter que significa cualquier caracter\n",
    "#excepto una nueva línea. \n",
    "#En pattern = r.'gr.y' abarca todos los strings que tengan una g, seguido de una r, seguido de cualquier cosa (el punto) y que termine con una y'''"
   ]
  },
  {
   "cell_type": "code",
   "execution_count": 18,
   "metadata": {},
   "outputs": [
    {
     "name": "stdout",
     "output_type": "stream",
     "text": [
      "Match 1\n",
      "Match 2\n"
     ]
    }
   ],
   "source": [
    "pattern = r\"^gr.y$\"\n",
    "\n",
    "if re.match(pattern, 'grey'):\n",
    "    print('Match 1')\n",
    "    \n",
    "if re.match(pattern, 'gray'):\n",
    "    print('Match 2')\n",
    "\n",
    "if re.match(pattern, 'stingray'):\n",
    "    print('Match 3')\n",
    "# Los metacharacters ^ y $ significan el principio y el final del string, respectivamente\n",
    "# Por ejemplo, el pattern \"^gr.y$\" significa que el string debe de comenzar con gr, seguido de cualquier caracter y\n",
    "# terminar con una y"
   ]
  },
  {
   "cell_type": "markdown",
   "metadata": {},
   "source": [
    "### Character classes\n",
    "\n",
    "Dan una manera de hacer match con un grupo específico de caracteres. Una Character Class se crea poniendo los caracteres deseados dentro de square brackets\n",
    "\n",
    "pattern = r'[aeiou]'\n"
   ]
  },
  {
   "cell_type": "code",
   "execution_count": 23,
   "metadata": {},
   "outputs": [
    {
     "name": "stdout",
     "output_type": "stream",
     "text": [
      "Match 1\n",
      "Match 2\n"
     ]
    }
   ],
   "source": [
    "pattern = r'[aeiou]'\n",
    "\n",
    "if re.search(pattern, 'grey'):\n",
    "    print('Match 1')\n",
    "\n",
    "if re.search(pattern, 'qwertyuiop'):\n",
    "    print('Match 2')\n",
    "\n",
    "if re.search(pattern, 'rhythm myths'):\n",
    "    print('Match 3')\n",
    "    \n",
    "\n",
    "\n",
    "#pattern = r'[aeiou]' va a hacer match con cualquier string que\n",
    "#contenga cualquier vocal (que son los caracteres definidos en este caso)"
   ]
  },
  {
   "cell_type": "code",
   "execution_count": 27,
   "metadata": {},
   "outputs": [
    {
     "name": "stdout",
     "output_type": "stream",
     "text": [
      "Match 1\n"
     ]
    }
   ],
   "source": [
    "pattern = r'[A-Z][A-Z][0-9]'\n",
    "\n",
    "if re.search(pattern, 'LS8'):\n",
    "    print('Match 1')\n",
    "\n",
    "if re.search(pattern, 'E3'):\n",
    "    print('Match 2')\n",
    "\n",
    "if re.search(pattern, '1ab'):\n",
    "    print('Match 3')\n",
    "\n",
    "#pattern = r'[A-Z][A-Z][0-9]' va a hacer match con un string que contenga tres letras.\n",
    "# donde la primera letra tiene que ser mayúscula, al igual que la segunda, la tercera tiene que ser un dígito"
   ]
  },
  {
   "cell_type": "code",
   "execution_count": 37,
   "metadata": {},
   "outputs": [
    {
     "name": "stdout",
     "output_type": "stream",
     "text": [
      "Match 1\n",
      "Match 2\n"
     ]
    }
   ],
   "source": [
    "pattern = r'[^A-Z]'\n",
    "\n",
    "if re.search(pattern, 'todas minusculas'):\n",
    "    print('Match 1')\n",
    "\n",
    "if re.search(pattern, 'maYuscYMinusCComBinaDas'):\n",
    "    print('Match 2')\n",
    "\n",
    "if re.search(pattern, 'MAYUSCULASTODAS'):\n",
    "    print('Match 3')\n",
    "    \n",
    "# En el caso de Character Classes, ^ significa 'todo lo que no incluye esta clase o rango de caracteres'\n",
    "# Por ejemplo pattern = r'[^A-Z]' hará match con los strings que no contengan caracteres en mayúsculas, incluyendo espacios"
   ]
  },
  {
   "cell_type": "markdown",
   "metadata": {},
   "source": [
    "### More metacharacters (*, +, ?, {})\n",
    "Para especificar el número de repeticiones, podemos usar *, +, ? y { }\n",
    "\n"
   ]
  },
  {
   "cell_type": "code",
   "execution_count": 40,
   "metadata": {},
   "outputs": [
    {
     "name": "stdout",
     "output_type": "stream",
     "text": [
      "Match 1\n",
      "Match 2\n"
     ]
    }
   ],
   "source": [
    "pattern = r'egg(spam)*'\n",
    "\n",
    "if re.match(pattern, 'egg'):\n",
    "    print('Match 1')\n",
    "\n",
    "if re.match(pattern, 'eggspamspamegg'):\n",
    "    print('Match 2')\n",
    "\n",
    "if re.match(pattern, 'spam'):\n",
    "    print('Match 3')\n",
    "\n",
    "#El (*) significa \"cero o más repeticiones de lo anterior\".\n",
    "#\"lo anterior\" puede ser un caracter, class o group de caracteres pero todos a los que aplique el * tiene que estar encerrado en paréntesis\n",
    "# pattern = r'egg(spam)*' hara match con los string que empiecen con egg y sigan con cero o más spam"
   ]
  },
  {
   "cell_type": "code",
   "execution_count": 44,
   "metadata": {},
   "outputs": [
    {
     "name": "stdout",
     "output_type": "stream",
     "text": [
      "Match 1\n",
      "Match 2\n"
     ]
    }
   ],
   "source": [
    "pattern = r'g+'\n",
    "\n",
    "if re.match(pattern, 'g'):\n",
    "    print('Match 1')\n",
    "if re.match(pattern, 'gggg'):\n",
    "    print('Match 2')\n",
    "if re.match(pattern, 'abc'):\n",
    "    print('Match 3')\n",
    "\n",
    "#El (+) hace lo mismo que el (*), solo que el match lo hace con los strings que\n",
    "# contengan una o más repeticiones del caracter deseado\n",
    "# pattern = r'g+' hará match con los strings que contengan una o más veces la letra g\n"
   ]
  },
  {
   "cell_type": "code",
   "execution_count": 46,
   "metadata": {},
   "outputs": [
    {
     "name": "stdout",
     "output_type": "stream",
     "text": [
      "Match 1\n",
      "Match 2\n"
     ]
    }
   ],
   "source": [
    "pattern = r\"ice(-)?cream\"\n",
    "\n",
    "if re.match(pattern, \"ice-cream\"):\n",
    "   print(\"Match 1\")\n",
    "\n",
    "if re.match(pattern, \"icecream\"):\n",
    "   print(\"Match 2\")\n",
    "\n",
    "if re.match(pattern, \"sausages\"):\n",
    "   print(\"Match 3\")\n",
    "\n",
    "if re.match(pattern, \"ice--ice\"):\n",
    "   print(\"Match 4\")\n",
    "\n",
    "# (?) significa cero o una repetición.\n",
    "# pattern = r\"ice(-)?cream\" hará match con aquellos strings que:\n",
    "# comiencen con ice, contengan de 0 a una repetición de un guión (-) y terminen con cream"
   ]
  },
  {
   "cell_type": "code",
   "execution_count": 55,
   "metadata": {},
   "outputs": [
    {
     "name": "stdout",
     "output_type": "stream",
     "text": [
      "Match 1\n",
      "Match 2\n"
     ]
    }
   ],
   "source": [
    "pattern = r\"9{1,3}$\"\n",
    "\n",
    "if re.match(pattern, \"9\"):\n",
    "   print(\"Match 1\")\n",
    "\n",
    "if re.match(pattern, \"999\"):\n",
    "   print(\"Match 2\")\n",
    "\n",
    "if re.match(pattern, \"99 7\"):\n",
    "   print(\"Match 3\")\n",
    "\n",
    "# en pattern = r'a{x, y}' los curly braces \n",
    "# significan que el string debe contener de x a y veces \n",
    "# la letra a\n",
    "# Así, pattern = r\"9{1,3}$\" hará match con aquellos strings que contengan\n",
    "#  de una a tres veces el número 9 al final del texto (recordar el funcionamiento del $)\n"
   ]
  },
  {
   "cell_type": "markdown",
   "metadata": {},
   "source": [
    "### Grupos\n",
    "\n",
    "Un grupo puede ser creado al poner parte de una regular expression entre paréntesis. De esta forma, los metacharacters afectarán a todos los integrantes del grupo."
   ]
  },
  {
   "cell_type": "code",
   "execution_count": 58,
   "metadata": {},
   "outputs": [
    {
     "name": "stdout",
     "output_type": "stream",
     "text": [
      "Match 1\n",
      "Match 2\n"
     ]
    }
   ],
   "source": [
    "pattern = r'egg(spam)*'\n",
    "\n",
    "if re.match(pattern, 'egg'):\n",
    "    print('Match 1')\n",
    "if re.match(pattern, 'eggspamspamspamegg'):\n",
    "    print('Match 2')\n",
    "if re.match(pattern, 'spam'):\n",
    "    print('Match 3')\n",
    "# El grupo es spam    \n",
    "#El (*) significa \"cero o más repeticiones de lo anterior\".\n",
    "#\"lo anterior\" puede ser un caracter, class o group de caracteres pero todos a los que aplique el * tiene que estar encerrado en paréntesis\n",
    "# pattern = r'egg(spam)*' hará match con los string que empiecen con egg y sigan con cero o más spam"
   ]
  },
  {
   "cell_type": "code",
   "execution_count": 61,
   "metadata": {},
   "outputs": [
    {
     "name": "stdout",
     "output_type": "stream",
     "text": [
      "abcdefghi\n",
      "abcdefghi\n",
      "bc\n",
      "de\n",
      "('bc', 'de', 'fgh', 'g')\n"
     ]
    }
   ],
   "source": [
    "pattern = r\"a(bc)(de)(f(g)h)i\"\n",
    "match = re.match(pattern,'abcdefghijklmnop')\n",
    "if match:\n",
    "    print(match.group())\n",
    "    print(match.group(0))\n",
    "    print(match.group(1))\n",
    "    print(match.group(2))\n",
    "    print(match.groups())\n",
    "\n",
    "#group() retorna todo el match\n",
    "#group(0) retorna todo el match\n",
    "#group(n) retorna el enesimo grupo matcheado desde la izquierda\n",
    "#groups retorna todos los grupos desde el 1"
   ]
  },
  {
   "cell_type": "code",
   "execution_count": 63,
   "metadata": {},
   "outputs": [
    {
     "name": "stdout",
     "output_type": "stream",
     "text": [
      "abc\n",
      "('abc', 'ghi')\n"
     ]
    }
   ],
   "source": [
    "pattern = r\"(?P<first>abc)(?:def)(ghi)\"\n",
    "\n",
    "match = re.match(pattern, \"abcdefghi\")\n",
    "if match:\n",
    "   print(match.group(\"first\"))\n",
    "   print(match.groups())\n",
    "\n",
    "# hay dos formas de nombrar los grupos:\n",
    "# 1) Named groups: se define al grupo con el formato (?P<nombre>...) \n",
    "#  donde nombre es el nombre del grupo (xd) y los tres puntos (...) es el contenido del grupo\n",
    "#   Puede ser accesado con group(nombre)\n",
    "# 2) Non-capturing groups: se definen con el formato (?:...). No se pueden acceder\n",
    "#  con group(nombre) porque nunca son nombrados"
   ]
  },
  {
   "cell_type": "code",
   "execution_count": 83,
   "metadata": {},
   "outputs": [
    {
     "name": "stdout",
     "output_type": "stream",
     "text": [
      "Match 1\n",
      "Match 2\n"
     ]
    }
   ],
   "source": [
    "pattern = r'gr(a|e)y'\n",
    "\n",
    "match = re.match(pattern, 'gray')\n",
    "if match:\n",
    "    print('Match 1')\n",
    "match = re.match(pattern, 'grey')\n",
    "if match:\n",
    "    print('Match 2')\n",
    "match = re.match(patter, 'griy')\n",
    "if match:\n",
    "    print('Match 3')\n",
    "    \n",
    "# pattern = r'gr(a|e)y' hará match con string que tenga las letras gr, seguidas de \n",
    "# a ó e, seguidas de y"
   ]
  },
  {
   "cell_type": "markdown",
   "metadata": {},
   "source": [
    "### Special sequences\n",
    "\n",
    "Se denotan por un backslash ( \\ )\n"
   ]
  },
  {
   "cell_type": "code",
   "execution_count": 91,
   "metadata": {},
   "outputs": [
    {
     "name": "stdout",
     "output_type": "stream",
     "text": [
      "Match 1\n",
      "Match 2\n"
     ]
    }
   ],
   "source": [
    "\n",
    "\n",
    "pattern = r\"(.+) \\1\"\n",
    "\n",
    "match = re.match(pattern, \"word word\")\n",
    "if match:\n",
    "   print (\"Match 1\")\n",
    "\n",
    "match = re.match(pattern, \"?! ?!\")\n",
    "if match:\n",
    "   print (\"Match 2\")    \n",
    "\n",
    "match = re.match(pattern, \"abc cde\")\n",
    "if match:\n",
    "   print (\"Match 3\")\n",
    "\n",
    "# pattern = r\"(.+) \\1\" hará match con los strings que tengan cualquier cosa repetida.\n",
    "# el \\1 se refiere a la subexpresión del primer grupo, que es la misma expresión matcheada\n",
    "# No solo se pueden usar numeros, también letras. \\n hará match con los strings que tengan new lines."
   ]
  },
  {
   "cell_type": "code",
   "execution_count": 93,
   "metadata": {},
   "outputs": [
    {
     "name": "stdout",
     "output_type": "stream",
     "text": [
      "Match 1\n"
     ]
    }
   ],
   "source": [
    "pattern = r\"(\\D+\\d)\"\n",
    "\n",
    "match = re.match(pattern, \"Hi 999!\")\n",
    "\n",
    "if match:\n",
    "   print(\"Match 1\")\n",
    "\n",
    "match = re.match(pattern, \"1, 23, 456!\")\n",
    "if match:\n",
    "   print(\"Match 2\")\n",
    "\n",
    "match = re.match(pattern, \" ! $?\")\n",
    "if match:\n",
    "    print(\"Match 3\")\n",
    "\n",
    "# \\D hace match con no digitos \n",
    "# \\d hace match con digitos\n",
    "# So pattern = r\"(\\D+\\d)\" hace match con strings que tenga un\n",
    "#  no digito seguido de un digito"
   ]
  },
  {
   "cell_type": "code",
   "execution_count": 96,
   "metadata": {},
   "outputs": [
    {
     "name": "stdout",
     "output_type": "stream",
     "text": [
      "Match 1\n",
      "Match 2\n"
     ]
    }
   ],
   "source": [
    "pattern = r\"\\b(cat)\\b\"\n",
    "\n",
    "match = re.search(pattern, \"The cat sat!\")\n",
    "if match:\n",
    "   print (\"Match 1\")\n",
    "\n",
    "match = re.search(pattern, \"We s>cat<tered?\")\n",
    "if match:\n",
    "   print (\"Match 2\")\n",
    "\n",
    "match = re.search(pattern, \"We scattered.\")\n",
    "if match:\n",
    "   print (\"Match 3\")\n",
    "\n",
    "#\\b significa word boundaries.\n",
    "# pattern = r\"\\b(cat)\\b\" hace match con los strings que contengan \n",
    "# la palabra cat rodeada de word boundaries\n"
   ]
  },
  {
   "cell_type": "markdown",
   "metadata": {},
   "source": [
    "### email extraction\n",
    "\n",
    "pattern = r\"([\\w\\.-]+)@([\\w\\.-]+)(\\.[\\w\\.]+)\"\n",
    "\n",
    "[\\w\\.-]+ matches one or more word character, dot or dash.\n",
    "\n",
    "El pattern establece que el string debe de contener una palabra (puntos y dashes son permitidos), seguido de una arroba, luego otra palabra, luego un punto y otra palabra"
   ]
  },
  {
   "cell_type": "code",
   "execution_count": 97,
   "metadata": {},
   "outputs": [
    {
     "name": "stdout",
     "output_type": "stream",
     "text": [
      "erickbarrios3@gmail.com\n"
     ]
    }
   ],
   "source": [
    "\n",
    "pattern = r\"([\\w\\.-]+)@([\\w\\.-]+)(\\.[\\w\\.]+)\"\n",
    "str = \"Mi correo es erickbarrios3@gmail.com\"\n",
    "\n",
    "match = re.search(pattern, str)\n",
    "if match:\n",
    "   print(match.group())"
   ]
  },
  {
   "cell_type": "code",
   "execution_count": null,
   "metadata": {},
   "outputs": [],
   "source": []
  }
 ],
 "metadata": {
  "kernelspec": {
   "display_name": "Python 3",
   "language": "python",
   "name": "python3"
  },
  "language_info": {
   "codemirror_mode": {
    "name": "ipython",
    "version": 3
   },
   "file_extension": ".py",
   "mimetype": "text/x-python",
   "name": "python",
   "nbconvert_exporter": "python",
   "pygments_lexer": "ipython3",
   "version": "3.7.3"
  }
 },
 "nbformat": 4,
 "nbformat_minor": 2
}
