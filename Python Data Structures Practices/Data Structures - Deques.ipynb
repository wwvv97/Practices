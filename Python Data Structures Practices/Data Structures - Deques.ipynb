{
 "cells": [
  {
   "cell_type": "markdown",
   "metadata": {},
   "source": [
    "# DEQUES"
   ]
  },
  {
   "cell_type": "markdown",
   "metadata": {},
   "source": [
    "A Deque is a Double-ended queue.\n",
    "\n",
    "And ADT that resembles both a stack and a queue.\n",
    "\n",
    "Items in a deque can be added to and removed from both the back and front."
   ]
  },
  {
   "cell_type": "markdown",
   "metadata": {},
   "source": [
    "## Deque Operations"
   ]
  },
  {
   "cell_type": "markdown",
   "metadata": {},
   "source": [
    "**Add**\n",
    "\n",
    "**Remove**"
   ]
  },
  {
   "cell_type": "markdown",
   "metadata": {},
   "source": [
    "Checking whether or not a string is a palindrome is a great example of how deques work."
   ]
  },
  {
   "cell_type": "code",
   "execution_count": null,
   "metadata": {},
   "outputs": [],
   "source": [
    "class Deque:\n",
    "    \n",
    "    def __init__(self):\n",
    "        self.items = []\n",
    "        \n",
    "    def add_front(self, item):\n",
    "        #Takes an item as a parameter and inserts it into the 0th index of the list that is representing the Deque.\n",
    "        #The runtime is linear or 0(n) because every time you insert into the front of the list, every item has to shift one position to the right.\n",
    "        self.items.insert(0, item)\n",
    "    \n",
    "    def add_rear(self, item):\n",
    "        #Takes an item as a parameter and appends that item to the end of the list that is representing the Deque.\n",
    "        #The runtime is constant.\n",
    "        self.items.append(item)\n",
    "    \n",
    "    def remove_front(self):\n",
    "        #Removes and returns whatever item in the 0th index of the list, which represents the front of the Deque.\n",
    "        #The runtime is linear, because when we remove an item from the 0th item, all the other items have to shift one index to the left.\n",
    "        if self.items:    \n",
    "            return self.items.pop(0)\n",
    "        return None\n",
    "    \n",
    "    def remove_rear(self):\n",
    "        #Removes and returns the last item of the list, which represents the rear of the Deque.\n",
    "        #The runtime is constant.\n",
    "        if self.items:\n",
    "            return self.items.pop()\n",
    "        return None\n",
    "    \n",
    "    def peek_front(self):\n",
    "        #Returns the value at the 0th index of the list, which represents the front of the deque.\n",
    "        #The runtime is constant.\n",
    "        if self.items:\n",
    "            return self.items[0]\n",
    "        return None\n",
    "        \n",
    "    def peek_rear(self):\n",
    "        #Returns the value at the last index of the list, which represents the rear of the deque.\n",
    "        #The runtime is constant.\n",
    "        if self.items:\n",
    "            return self.items[-1]\n",
    "        return None\n",
    "    \n",
    "    def size(self):\n",
    "        # This method returns the length of the list that is representing the Stack.\n",
    "        # This method runs in constant time, because finding the length of a list happens in constant time.\n",
    "        return len(self.items)\n",
    "    \n",
    "    def is_empty(self):\n",
    "        #This method returns a boolean value describing whether or not the Stack is empty.\n",
    "        # It happens in constant time because it just tests equality.\n",
    "        return self.items == []"
   ]
  },
  {
   "cell_type": "code",
   "execution_count": 3,
   "metadata": {},
   "outputs": [
    {
     "data": {
      "text/plain": [
       "['banana', 'apple', 'peach']"
      ]
     },
     "execution_count": 3,
     "metadata": {},
     "output_type": "execute_result"
    }
   ],
   "source": [
    "class Deque:\n",
    "    \n",
    "    def __init__(self):\n",
    "        self.items = []\n",
    "        \n",
    "    def add_front(self, item):\n",
    "        self.items.insert(0, item)\n",
    "    \n",
    "    def add_rear(self, item):\n",
    "        self.items.append(item)\n",
    "        \n",
    "my_d = Deque()\n",
    "my_d.add_front('apple')\n",
    "my_d.add_front('banana')\n",
    "my_d.items\n",
    "my_d.add_rear('peach')\n",
    "my_d.items"
   ]
  },
  {
   "cell_type": "code",
   "execution_count": 11,
   "metadata": {},
   "outputs": [
    {
     "data": {
      "text/plain": [
       "['apple', 'peach']"
      ]
     },
     "execution_count": 11,
     "metadata": {},
     "output_type": "execute_result"
    }
   ],
   "source": [
    "class Deque:\n",
    "    \n",
    "    def __init__(self):\n",
    "        self.items = []\n",
    "        \n",
    "    def add_front(self, item):\n",
    "        self.items.insert(0, item)\n",
    "    \n",
    "    def add_rear(self, item):\n",
    "        self.items.append(item)\n",
    "    \n",
    "    def remove_front(self):\n",
    "        if self.items:    \n",
    "            return self.items.pop(0)\n",
    "        return None\n",
    "    \n",
    "    def remove_rear(self):\n",
    "        if self.items:\n",
    "            return self.items.pop()\n",
    "        return None\n",
    "    \n",
    "my_d1 = Deque()\n",
    "my_d1.add_front('apple')\n",
    "my_d1.add_front('banana')\n",
    "my_d1.items\n",
    "my_d1.add_rear('peach')\n",
    "my_d1.add_rear('carrot')\n",
    "my_d1.items\n",
    "my_d1.remove_front()\n",
    "my_d1.items\n",
    "my_d1.remove_rear()\n",
    "my_d1.items"
   ]
  },
  {
   "cell_type": "code",
   "execution_count": 24,
   "metadata": {},
   "outputs": [
    {
     "data": {
      "text/plain": [
       "'carrot'"
      ]
     },
     "execution_count": 24,
     "metadata": {},
     "output_type": "execute_result"
    }
   ],
   "source": [
    "class Deque:\n",
    "    \n",
    "    def __init__(self):\n",
    "        self.items = []\n",
    "        \n",
    "    def add_front(self, item):\n",
    "        self.items.insert(0, item)\n",
    "    \n",
    "    def add_rear(self, item):\n",
    "        self.items.append(item)\n",
    "    \n",
    "    def remove_front(self):\n",
    "        if self.items:    \n",
    "            return self.items.pop(0)\n",
    "        return None\n",
    "    \n",
    "    def remove_rear(self):\n",
    "        if self.items:\n",
    "            return self.items.pop()\n",
    "        return None\n",
    "\n",
    "    def peek_front(self):\n",
    "        if self.items:\n",
    "            return self.items[0]\n",
    "        return None\n",
    "        \n",
    "    def peek_rear(self):\n",
    "        if self.items:\n",
    "            return self.items[-1]\n",
    "        return None\n",
    "    \n",
    "my_d2 = Deque()\n",
    "my_d2.add_front('apple')\n",
    "my_d2.add_front('banana')\n",
    "my_d2.add_rear('peach')\n",
    "my_d2.add_rear('carrot')\n",
    "my_d2.items\n",
    "my_d2.peek_front()\n",
    "my_d2.peek_rear()"
   ]
  },
  {
   "cell_type": "markdown",
   "metadata": {},
   "source": [
    "## CHALLENGE"
   ]
  },
  {
   "cell_type": "markdown",
   "metadata": {},
   "source": [
    "Using a Deque data structure, write a function that takes an input string and returns:\n",
    "\n",
    "- True if the string is a palindrome\n",
    "\n",
    "- False if not.\n",
    "\n",
    "Take in account that a **palindrome** is a word that is spelled the same backwards and forwards. For example: mom, level, and kayak."
   ]
  },
  {
   "cell_type": "markdown",
   "metadata": {},
   "source": [
    "### SOLUTION"
   ]
  },
  {
   "cell_type": "code",
   "execution_count": 33,
   "metadata": {},
   "outputs": [
    {
     "name": "stdout",
     "output_type": "stream",
     "text": [
      "True\n"
     ]
    }
   ],
   "source": [
    "class Deque:\n",
    "    \n",
    "    def __init__(self):\n",
    "        self.items = []\n",
    "        \n",
    "    def add_front(self, item):\n",
    "        self.items.insert(0, item)\n",
    "    \n",
    "    def add_rear(self, item):\n",
    "        self.items.append(item)\n",
    "    \n",
    "    def remove_front(self):\n",
    "        if self.items:    \n",
    "            return self.items.pop(0)\n",
    "        return None\n",
    "    \n",
    "    def remove_rear(self):\n",
    "        if self.items:\n",
    "            return self.items.pop()\n",
    "        return None\n",
    "    \n",
    "    def size(self):\n",
    "        return len(self.items)\n",
    "    \n",
    "def check_palindrome(input_str):\n",
    "    my_dq = Deque()\n",
    "    for char in input_str:\n",
    "        my_dq.add_rear(char)\n",
    "    \n",
    "    while my_dq.size()>=2:\n",
    "        front_item = my_dq.remove_front()\n",
    "        rear_item = my_dq.remove_rear()\n",
    "        \n",
    "        if front_item != rear_item:\n",
    "            return False\n",
    "    return True\n",
    "\n",
    "print(check_palindrome('12321'))"
   ]
  }
 ],
 "metadata": {
  "kernelspec": {
   "display_name": "Python 3",
   "language": "python",
   "name": "python3"
  },
  "language_info": {
   "codemirror_mode": {
    "name": "ipython",
    "version": 3
   },
   "file_extension": ".py",
   "mimetype": "text/x-python",
   "name": "python",
   "nbconvert_exporter": "python",
   "pygments_lexer": "ipython3",
   "version": "3.7.4"
  }
 },
 "nbformat": 4,
 "nbformat_minor": 2
}
