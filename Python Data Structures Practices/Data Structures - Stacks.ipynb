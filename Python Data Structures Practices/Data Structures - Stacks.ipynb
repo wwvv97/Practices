{
 "cells": [
  {
   "cell_type": "markdown",
   "metadata": {},
   "source": [
    "# DATA STRUCTURES"
   ]
  },
  {
   "cell_type": "markdown",
   "metadata": {},
   "source": [
    "In this Jupyter notebook, it is shown some examples to understand better these Python Data Structures:\n",
    "1. Stacks\n",
    "2. Queues\n",
    "3. Deques"
   ]
  },
  {
   "cell_type": "markdown",
   "metadata": {},
   "source": [
    "## 1. Stacks"
   ]
  },
  {
   "cell_type": "code",
   "execution_count": 1,
   "metadata": {},
   "outputs": [],
   "source": [
    "class Stack:\n",
    "    \n",
    "    def __init__(self):\n",
    "        self.items = []\n",
    "\n",
    "        #It allows us to add an item onto the stack.\n",
    "    def push(self, item):\n",
    "        # Accepts an item as a parameter and appends it to the end of the list.\n",
    "        # Returns nothing.\n",
    "        # The runtime for this method is O(1), or constant time,because appending to the end of a list happens in constant time.\n",
    "        self.items.append(item)\n",
    "\n",
    "        #It allows us to remove an item from the top of the stack.\n",
    "    def pop(self):\n",
    "        # Removes and returns the last item from the list, which is also the top item of the stack.\n",
    "        # The runtime is O(1) or constant time, because all it does is index to the last item of the list.\n",
    "        if self.items:\n",
    "            return self.items.pop()\n",
    "        return None\n",
    "    # It doesn't need to specify an item inside it because that way it takes the last method.\n",
    "    \n",
    "    #It shows us which is the next value ready to be popped.\n",
    "    def peek(self):\n",
    "        # This method returns the last item in the list, which is also the item at the top of the stack.\n",
    "        # Indexing to a list is done in constant time.\n",
    "        if self.items:\n",
    "            return self.items[-1]\n",
    "        return None\n",
    "    \n",
    "    def size(self):\n",
    "        # This method returns the length of the list that is representing the Stack.\n",
    "        # This method runs in constant time, because finding the length of a list happens in constant time.\n",
    "        return len(self.items)\n",
    "    \n",
    "    def is_empty(self):\n",
    "        #This method returns a boolean value describing whether or not the Stack is empty.\n",
    "        # It happens in constant time because it just tests equality.\n",
    "        return self.items == []"
   ]
  },
  {
   "cell_type": "markdown",
   "metadata": {},
   "source": [
    "Testing that the **push** method is working:"
   ]
  },
  {
   "cell_type": "code",
   "execution_count": 2,
   "metadata": {},
   "outputs": [
    {
     "data": {
      "text/plain": [
       "['apple', 'banana']"
      ]
     },
     "execution_count": 2,
     "metadata": {},
     "output_type": "execute_result"
    }
   ],
   "source": [
    "class Stack:\n",
    "    \n",
    "    def __init__(self):\n",
    "        self.items = []\n",
    "\n",
    "    def push(self, item):\n",
    "        self.items.append(item)\n",
    "\n",
    "my_stack = Stack()\n",
    "# Appending the first item\n",
    "my_stack.push('apple')\n",
    "# Appending the second item\n",
    "my_stack.push('banana')\n",
    "# Testing if the items got appended onto my_stack.\n",
    "my_stack.items"
   ]
  },
  {
   "cell_type": "markdown",
   "metadata": {},
   "source": [
    "Testing that the **pop** method is working:"
   ]
  },
  {
   "cell_type": "code",
   "execution_count": 3,
   "metadata": {},
   "outputs": [
    {
     "data": {
      "text/plain": [
       "'banana'"
      ]
     },
     "execution_count": 3,
     "metadata": {},
     "output_type": "execute_result"
    }
   ],
   "source": [
    "class Stack:\n",
    "    \n",
    "    def __init__(self):\n",
    "        self.items = []\n",
    "        \n",
    "    def push(self, item):\n",
    "        self.items.append(item)\n",
    "\n",
    "    def pop(self):       \n",
    "        if self.items:\n",
    "            return self.items.pop()\n",
    "        return None\n",
    "\n",
    "my_stack1 = Stack()\n",
    "# If you run the pop method for an empty list, it will return an error unless you tell the code to return nothing.\n",
    "my_stack1.push('apple')\n",
    "my_stack1.push('banana')\n",
    "# It does not just removes the last item (banana), but it returns its value.\n",
    "my_stack1.pop()"
   ]
  },
  {
   "cell_type": "markdown",
   "metadata": {},
   "source": [
    "Testing that the **peek** method is working:"
   ]
  },
  {
   "cell_type": "code",
   "execution_count": 4,
   "metadata": {},
   "outputs": [
    {
     "data": {
      "text/plain": [
       "'apple'"
      ]
     },
     "execution_count": 4,
     "metadata": {},
     "output_type": "execute_result"
    }
   ],
   "source": [
    "class Stack:\n",
    "    \n",
    "    def __init__(self):\n",
    "        self.items = []\n",
    "        \n",
    "    def push(self, item):\n",
    "        self.items.append(item)\n",
    "\n",
    "    def pop(self):       \n",
    "        if self.items:\n",
    "            return self.items.pop()\n",
    "        \n",
    "        return None\n",
    "    \n",
    "    def peek(self):\n",
    "        if self.items:\n",
    "            return self.items[-1]\n",
    "        return None\n",
    "    \n",
    "my_stack2 = Stack()\n",
    "my_stack2.push('apple')\n",
    "my_stack2.peek()\n",
    "# If you pop the only item of the list and it gets empty, the peek method will return an error."
   ]
  },
  {
   "cell_type": "markdown",
   "metadata": {},
   "source": [
    "Testing that the **size** method is working:"
   ]
  },
  {
   "cell_type": "code",
   "execution_count": 5,
   "metadata": {},
   "outputs": [
    {
     "data": {
      "text/plain": [
       "1"
      ]
     },
     "execution_count": 5,
     "metadata": {},
     "output_type": "execute_result"
    }
   ],
   "source": [
    "class Stack:\n",
    "    \n",
    "    def __init__(self):\n",
    "        self.items = []\n",
    "        \n",
    "    def push(self, item):\n",
    "        self.items.append(item)\n",
    "\n",
    "    def pop(self):       \n",
    "        if self.items:\n",
    "            return self.items.pop()\n",
    "        \n",
    "        return None\n",
    "    \n",
    "    def peek(self):\n",
    "        if self.items:\n",
    "            return self.items[-1]\n",
    "        return None\n",
    "    \n",
    "    def size(self):\n",
    "        return len(self.items)\n",
    "    \n",
    "my_stack3 = Stack()\n",
    "my_stack3.size()\n",
    "my_stack3.push('apple')\n",
    "my_stack3.size()"
   ]
  },
  {
   "cell_type": "markdown",
   "metadata": {},
   "source": [
    "Testing that the **is_empty** method is working:"
   ]
  },
  {
   "cell_type": "code",
   "execution_count": 6,
   "metadata": {},
   "outputs": [
    {
     "data": {
      "text/plain": [
       "False"
      ]
     },
     "execution_count": 6,
     "metadata": {},
     "output_type": "execute_result"
    }
   ],
   "source": [
    "class Stack:\n",
    "    \n",
    "    def __init__(self):\n",
    "        self.items = []\n",
    "        \n",
    "    def push(self, item):\n",
    "        self.items.append(item)\n",
    "\n",
    "    def pop(self):       \n",
    "        if self.items:\n",
    "            return self.items.pop()\n",
    "        \n",
    "        return None\n",
    "    \n",
    "    def peek(self):\n",
    "        if self.items:\n",
    "            return self.items[-1]\n",
    "        return None\n",
    "    \n",
    "    def size(self):\n",
    "        return len(self.items)\n",
    "    \n",
    "    def is_empty(self):\n",
    "        return self.items == []\n",
    "    \n",
    "my_stack4 = Stack()\n",
    "my_stack4.is_empty()\n",
    "my_stack4.push('apple')\n",
    "my_stack4.is_empty()"
   ]
  },
  {
   "cell_type": "markdown",
   "metadata": {},
   "source": [
    "### CHALLENGE"
   ]
  },
  {
   "cell_type": "markdown",
   "metadata": {},
   "source": [
    "**Prompt:** Create a function that takes in a string of symbol pairs as a parameter. The function should return True if the symbol string is balanced or False if it is not.\n",
    "\n",
    "The string should only contain opening and closing symbols, like **'([{}])'** or **'(([{])'**.\n",
    "\n",
    "For symbols to be balanced, each opening symbol must also have a closing symbol, and the symbols must be properly nested.\n",
    "Make use of a stack for the solution.\n",
    "\n",
    "**Example of Balanced Symbols:**\n",
    "1. ([{}])\n",
    "2. ([]{}())\n",
    "3. (((())))\n",
    "\n",
    "**Example of Unbalanced Symbols:**\n",
    "1. (([{])\n",
    "2. [}([){]"
   ]
  },
  {
   "cell_type": "markdown",
   "metadata": {},
   "source": [
    "#### *Solution*"
   ]
  },
  {
   "cell_type": "code",
   "execution_count": 7,
   "metadata": {},
   "outputs": [
    {
     "name": "stdout",
     "output_type": "stream",
     "text": [
      "True\n",
      "False\n"
     ]
    }
   ],
   "source": [
    "class Stack:\n",
    "    \n",
    "    def __init__(self):\n",
    "        self.items = []\n",
    "        \n",
    "    def push(self, item):\n",
    "        self.items.append(item)\n",
    "\n",
    "    def pop(self):       \n",
    "        if self.items:\n",
    "            return self.items.pop()\n",
    "        \n",
    "        return None\n",
    "    \n",
    "    def is_empty(self):\n",
    "        return self.items == []\n",
    "\n",
    "def match_symbols(symbol_str):\n",
    "    \n",
    "    symbol_pairs = {\n",
    "        '(':')',\n",
    "        '[':']',\n",
    "        '{':'}'\n",
    "    }\n",
    "    \n",
    "    openers = symbol_pairs.keys()\n",
    "    my_stack = Stack()\n",
    "    \n",
    "    index = 0\n",
    "    while index < len(symbol_str):\n",
    "        symbol = symbol_str[index]\n",
    "        \n",
    "        if symbol in openers:\n",
    "            my_stack.push(symbol)\n",
    "        else:\n",
    "            if my_stack.is_empty():\n",
    "                return False\n",
    "            else:\n",
    "                top_item = my_stack.pop()\n",
    "                if symbol != symbol_pairs[top_item]:\n",
    "                    return False\n",
    "        index += 1\n",
    "    \n",
    "    if my_stack.is_empty():\n",
    "        return True\n",
    "    \n",
    "    return False\n",
    "\n",
    "print(match_symbols('([{}])'))\n",
    "print(match_symbols('([{(}])'))"
   ]
  }
 ],
 "metadata": {
  "kernelspec": {
   "display_name": "Python 3",
   "language": "python",
   "name": "python3"
  },
  "language_info": {
   "codemirror_mode": {
    "name": "ipython",
    "version": 3
   },
   "file_extension": ".py",
   "mimetype": "text/x-python",
   "name": "python",
   "nbconvert_exporter": "python",
   "pygments_lexer": "ipython3",
   "version": "3.7.4"
  }
 },
 "nbformat": 4,
 "nbformat_minor": 2
}
