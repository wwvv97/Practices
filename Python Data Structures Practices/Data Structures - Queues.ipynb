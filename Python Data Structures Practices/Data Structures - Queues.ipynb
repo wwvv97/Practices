{
 "cells": [
  {
   "cell_type": "markdown",
   "metadata": {},
   "source": [
    "# QUEUES"
   ]
  },
  {
   "cell_type": "markdown",
   "metadata": {},
   "source": [
    "An ADT that stores items in the order in which they were added.\n",
    "\n",
    "The items are added to the back and removed from the front.\n",
    "\n",
    "It can be worked with lists because lists are mutable and store ordered collection of items.\n",
    "\n",
    "A perfect example of Queues is a printing process, because it prints the documents in the order in which they were sent to the printer."
   ]
  },
  {
   "cell_type": "markdown",
   "metadata": {},
   "source": [
    "## Queue Operations"
   ]
  },
  {
   "cell_type": "markdown",
   "metadata": {},
   "source": [
    "**ENQUEUE**: Adding items to the Queue.\n",
    "\n",
    "**DEQUEUE**: Removing items from the Queue."
   ]
  },
  {
   "cell_type": "code",
   "execution_count": null,
   "metadata": {},
   "outputs": [],
   "source": [
    "class Queue:\n",
    "    \n",
    "    def __init__ (self):\n",
    "        self.items = []\n",
    "    \n",
    "    def enqueue(self, item):\n",
    "        #Takes in an item and inserts that item into the 0th index of the list that is representing the Queue.\n",
    "        #The runtime is 0(n), or linear time, because inserting into the 0th index of a list forces all the other items in the list to move one index to the right.\n",
    "        self.items.insert(0, item)\n",
    "    \n",
    "    def dequeue(self):\n",
    "        #Returns and removes the front-most item of the Queue, which is represented by the last item in the list.\n",
    "        #The runtime is 0(1), or constant time, because indexing to the end of a list happens in constant time.\n",
    "        if self.items:\n",
    "            return self.items.pop()\n",
    "        return None\n",
    "        \n",
    "    def peek(self):\n",
    "        # This method returns the last item in the list, which is also the item at the top of the stack.\n",
    "        # Indexing to a list is done in constant time.\n",
    "        if self.items:\n",
    "            return self.items[-1]\n",
    "        return None\n",
    "    \n",
    "    def size(self):\n",
    "        # This method returns the length of the list that is representing the Stack.\n",
    "        # This method runs in constant time, because finding the length of a list happens in constant time.\n",
    "        return len(self.items)\n",
    "    \n",
    "    def is_empty(self):\n",
    "        #This method returns a boolean value describing whether or not the Stack is empty.\n",
    "        # It happens in constant time because it just tests equality.\n",
    "        return self.items == []"
   ]
  },
  {
   "cell_type": "code",
   "execution_count": 25,
   "metadata": {},
   "outputs": [
    {
     "data": {
      "text/plain": [
       "['banana', 'apple']"
      ]
     },
     "execution_count": 25,
     "metadata": {},
     "output_type": "execute_result"
    }
   ],
   "source": [
    "class Queue:\n",
    "    \n",
    "    def __init__(self):\n",
    "        self.items = []\n",
    "    \n",
    "    def enqueue(self, item):\n",
    "        self.items.insert(0, item)\n",
    "     \n",
    "my_q = Queue()\n",
    "my_q.enqueue('apple')\n",
    "my_q.enqueue('banana')\n",
    "my_q.items"
   ]
  },
  {
   "cell_type": "code",
   "execution_count": 28,
   "metadata": {},
   "outputs": [
    {
     "data": {
      "text/plain": [
       "['banana']"
      ]
     },
     "execution_count": 28,
     "metadata": {},
     "output_type": "execute_result"
    }
   ],
   "source": [
    "class Queue:\n",
    "    \n",
    "    def __init__(self):\n",
    "        self.items = []\n",
    "    \n",
    "    def enqueue(self, item):\n",
    "        self.items.insert(0, item)\n",
    "        \n",
    "    def dequeue(self):\n",
    "        if self.items:\n",
    "            return self.items.pop()\n",
    "        return None\n",
    "    \n",
    "my_q2 = Queue()\n",
    "my_q2.enqueue('apple')\n",
    "my_q2.enqueue('banana')\n",
    "my_q2.dequeue()\n",
    "my_q2.items"
   ]
  },
  {
   "cell_type": "code",
   "execution_count": 31,
   "metadata": {},
   "outputs": [
    {
     "data": {
      "text/plain": [
       "'apple'"
      ]
     },
     "execution_count": 31,
     "metadata": {},
     "output_type": "execute_result"
    }
   ],
   "source": [
    "class Queue:\n",
    "    \n",
    "    def __init__(self):\n",
    "        self.items = []\n",
    "    \n",
    "    def enqueue(self, item):\n",
    "        self.items.insert(0, item)\n",
    "        \n",
    "    def dequeue(self):\n",
    "        if self.items:\n",
    "            return self.items.pop()\n",
    "        return None\n",
    "    \n",
    "    def peek(self):\n",
    "        if self.items:\n",
    "            return self.items[-1]\n",
    "        return None\n",
    "    \n",
    "my_q3 = Queue()\n",
    "my_q3.enqueue('apple')\n",
    "my_q3.enqueue('banana')\n",
    "my_q3.peek()"
   ]
  },
  {
   "cell_type": "code",
   "execution_count": 36,
   "metadata": {},
   "outputs": [
    {
     "data": {
      "text/plain": [
       "False"
      ]
     },
     "execution_count": 36,
     "metadata": {},
     "output_type": "execute_result"
    }
   ],
   "source": [
    "class Queue:\n",
    "    \n",
    "    def __init__ (self):\n",
    "        self.items = []\n",
    "    \n",
    "    def enqueue(self, item):\n",
    "        self.items.insert(0, item)\n",
    "    \n",
    "    def dequeue(self):\n",
    "        if self.items:\n",
    "            return self.items.pop()\n",
    "        return None\n",
    "        \n",
    "    def peek(self):\n",
    "        if self.items:\n",
    "            return self.items[-1]\n",
    "        return None\n",
    "    \n",
    "    def size(self):\n",
    "        return len(self.items)\n",
    "    \n",
    "    def is_empty(self):\n",
    "        return self.items == []\n",
    "\n",
    "my_q4 = Queue()\n",
    "my_q4.size()\n",
    "my_q4.is_empty()\n",
    "my_q4.enqueue('apple')\n",
    "my_q4.size()\n",
    "my_q4.is_empty()"
   ]
  },
  {
   "cell_type": "markdown",
   "metadata": {},
   "source": [
    "## CHALLENGE"
   ]
  },
  {
   "cell_type": "markdown",
   "metadata": {},
   "source": [
    "Create 3 classes that, together, model how a printer could take print jobs out of a print queue.\n",
    "\n",
    "**Requirements:**\n",
    "\n",
    "*PrintQueue* class that follows the queue data structure implementation.\n",
    "\n",
    "*Job* class:\n",
    "    *pages* attribute - random, 1 to 10.\n",
    "    *print_page()* - decrement pages.\n",
    "    *check_complete()*\n",
    "\n",
    "*Printer* class:\n",
    "    *get_job()* - account for the case where\n",
    "    *PrintQueue.items* is empty"
   ]
  },
  {
   "cell_type": "markdown",
   "metadata": {},
   "source": [
    "### SOLUTION"
   ]
  },
  {
   "cell_type": "code",
   "execution_count": 52,
   "metadata": {},
   "outputs": [
    {
     "data": {
      "text/plain": [
       "'Printing complete.'"
      ]
     },
     "execution_count": 52,
     "metadata": {},
     "output_type": "execute_result"
    }
   ],
   "source": [
    "import random\n",
    "\n",
    "class PrintQueue:\n",
    "    def __init__(self):\n",
    "        self.items = []\n",
    "        \n",
    "    def enqueue(self,item):\n",
    "        self.items.insert(0,item)\n",
    "    \n",
    "    def dequeue(self):\n",
    "        return self.items.pop()\n",
    "    \n",
    "    def is_empty():\n",
    "        return self.items == []\n",
    "\n",
    "class Job:\n",
    "    def __init__(self):\n",
    "        self.pages = random.randint(1,11)\n",
    "        \n",
    "    def print_page(self):\n",
    "        if self.pages>0:\n",
    "            self.pages -= 1\n",
    "    def check_complete(self):\n",
    "        if self.pages == 0:\n",
    "            return True\n",
    "        return False\n",
    "    \n",
    "class Printer:\n",
    "    def __init__(self):\n",
    "        self.current_job = None\n",
    "\n",
    "    def get_job(self, print_queue):\n",
    "        try:\n",
    "            self.current_job = print_queue.dequeue()\n",
    "        except IndexError:\n",
    "            return \"No more jobs to print.\"\n",
    "    \n",
    "    def print_job(self, job):\n",
    "        while job.pages > 0:\n",
    "            job.print_page()\n",
    "        if job.check_complete():\n",
    "            return \"Printing complete.\"\n",
    "        else:\n",
    "            return \"An error ocurred.\"\n",
    "            \n",
    "\n",
    "job1 = Job()\n",
    "print_q = PrintQueue()\n",
    "printer = Printer()\n",
    "print_q.enqueue(job1)\n",
    "print_q.items\n",
    "printer.get_job(print_q)\n",
    "print_q.items\n",
    "printer.print_job(printer.current_job)"
   ]
  }
 ],
 "metadata": {
  "kernelspec": {
   "display_name": "Python 3",
   "language": "python",
   "name": "python3"
  },
  "language_info": {
   "codemirror_mode": {
    "name": "ipython",
    "version": 3
   },
   "file_extension": ".py",
   "mimetype": "text/x-python",
   "name": "python",
   "nbconvert_exporter": "python",
   "pygments_lexer": "ipython3",
   "version": "3.7.4"
  }
 },
 "nbformat": 4,
 "nbformat_minor": 2
}
